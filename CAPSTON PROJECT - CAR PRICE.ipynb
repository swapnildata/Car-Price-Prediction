{
 "cells": [
  {
   "cell_type": "code",
   "execution_count": 1,
   "id": "96538af0",
   "metadata": {},
   "outputs": [],
   "source": [
    "import pandas as pd\n",
    "import numpy as np\n",
    "import matplotlib.pyplot as plt\n",
    "import seaborn as sns"
   ]
  },
  {
   "cell_type": "code",
   "execution_count": 2,
   "id": "1f25a2be",
   "metadata": {},
   "outputs": [],
   "source": [
    "raw_data=pd.read_csv(\"C:\\\\Users\\\\swapnil8251\\\\Desktop\\\\DATA SCIENCE AND MACHINE LEARNING\\\\CAPSTON PROJECT\\\\Car_Prices_Poland_Kaggle.csv\")"
   ]
  },
  {
   "cell_type": "code",
   "execution_count": 3,
   "id": "12befafb",
   "metadata": {},
   "outputs": [
    {
     "data": {
      "text/html": [
       "<div>\n",
       "<style scoped>\n",
       "    .dataframe tbody tr th:only-of-type {\n",
       "        vertical-align: middle;\n",
       "    }\n",
       "\n",
       "    .dataframe tbody tr th {\n",
       "        vertical-align: top;\n",
       "    }\n",
       "\n",
       "    .dataframe thead th {\n",
       "        text-align: right;\n",
       "    }\n",
       "</style>\n",
       "<table border=\"1\" class=\"dataframe\">\n",
       "  <thead>\n",
       "    <tr style=\"text-align: right;\">\n",
       "      <th></th>\n",
       "      <th>Unnamed: 0</th>\n",
       "      <th>mark</th>\n",
       "      <th>model</th>\n",
       "      <th>generation_name</th>\n",
       "      <th>year</th>\n",
       "      <th>mileage</th>\n",
       "      <th>vol_engine</th>\n",
       "      <th>fuel</th>\n",
       "      <th>city</th>\n",
       "      <th>province</th>\n",
       "      <th>price</th>\n",
       "    </tr>\n",
       "  </thead>\n",
       "  <tbody>\n",
       "    <tr>\n",
       "      <th>0</th>\n",
       "      <td>0</td>\n",
       "      <td>opel</td>\n",
       "      <td>combo</td>\n",
       "      <td>gen-d-2011</td>\n",
       "      <td>2015</td>\n",
       "      <td>139568</td>\n",
       "      <td>1248</td>\n",
       "      <td>Diesel</td>\n",
       "      <td>Janki</td>\n",
       "      <td>Mazowieckie</td>\n",
       "      <td>35900</td>\n",
       "    </tr>\n",
       "    <tr>\n",
       "      <th>1</th>\n",
       "      <td>1</td>\n",
       "      <td>opel</td>\n",
       "      <td>combo</td>\n",
       "      <td>gen-d-2011</td>\n",
       "      <td>2018</td>\n",
       "      <td>31991</td>\n",
       "      <td>1499</td>\n",
       "      <td>Diesel</td>\n",
       "      <td>Katowice</td>\n",
       "      <td>Śląskie</td>\n",
       "      <td>78501</td>\n",
       "    </tr>\n",
       "    <tr>\n",
       "      <th>2</th>\n",
       "      <td>2</td>\n",
       "      <td>opel</td>\n",
       "      <td>combo</td>\n",
       "      <td>gen-d-2011</td>\n",
       "      <td>2015</td>\n",
       "      <td>278437</td>\n",
       "      <td>1598</td>\n",
       "      <td>Diesel</td>\n",
       "      <td>Brzeg</td>\n",
       "      <td>Opolskie</td>\n",
       "      <td>27000</td>\n",
       "    </tr>\n",
       "    <tr>\n",
       "      <th>3</th>\n",
       "      <td>3</td>\n",
       "      <td>opel</td>\n",
       "      <td>combo</td>\n",
       "      <td>gen-d-2011</td>\n",
       "      <td>2016</td>\n",
       "      <td>47600</td>\n",
       "      <td>1248</td>\n",
       "      <td>Diesel</td>\n",
       "      <td>Korfantów</td>\n",
       "      <td>Opolskie</td>\n",
       "      <td>30800</td>\n",
       "    </tr>\n",
       "    <tr>\n",
       "      <th>4</th>\n",
       "      <td>4</td>\n",
       "      <td>opel</td>\n",
       "      <td>combo</td>\n",
       "      <td>gen-d-2011</td>\n",
       "      <td>2014</td>\n",
       "      <td>103000</td>\n",
       "      <td>1400</td>\n",
       "      <td>CNG</td>\n",
       "      <td>Tarnowskie Góry</td>\n",
       "      <td>Śląskie</td>\n",
       "      <td>35900</td>\n",
       "    </tr>\n",
       "  </tbody>\n",
       "</table>\n",
       "</div>"
      ],
      "text/plain": [
       "   Unnamed: 0  mark  model generation_name  year  mileage  vol_engine    fuel  \\\n",
       "0           0  opel  combo      gen-d-2011  2015   139568        1248  Diesel   \n",
       "1           1  opel  combo      gen-d-2011  2018    31991        1499  Diesel   \n",
       "2           2  opel  combo      gen-d-2011  2015   278437        1598  Diesel   \n",
       "3           3  opel  combo      gen-d-2011  2016    47600        1248  Diesel   \n",
       "4           4  opel  combo      gen-d-2011  2014   103000        1400     CNG   \n",
       "\n",
       "              city     province  price  \n",
       "0            Janki  Mazowieckie  35900  \n",
       "1         Katowice      Śląskie  78501  \n",
       "2            Brzeg     Opolskie  27000  \n",
       "3        Korfantów     Opolskie  30800  \n",
       "4  Tarnowskie Góry      Śląskie  35900  "
      ]
     },
     "execution_count": 3,
     "metadata": {},
     "output_type": "execute_result"
    }
   ],
   "source": [
    "raw_data.head()"
   ]
  },
  {
   "cell_type": "code",
   "execution_count": 4,
   "id": "97a9c37c",
   "metadata": {},
   "outputs": [
    {
     "data": {
      "text/plain": [
       "(117927, 11)"
      ]
     },
     "execution_count": 4,
     "metadata": {},
     "output_type": "execute_result"
    }
   ],
   "source": [
    "raw_data.shape"
   ]
  },
  {
   "cell_type": "code",
   "execution_count": 5,
   "id": "4450e748",
   "metadata": {},
   "outputs": [],
   "source": [
    "data01=raw_data.copy(deep=True)"
   ]
  },
  {
   "cell_type": "code",
   "execution_count": 6,
   "id": "36d6972e",
   "metadata": {},
   "outputs": [],
   "source": [
    "#No need of first column as it only indicates the index.\n",
    "data01=data01.drop(['Unnamed: 0'], axis=1)"
   ]
  },
  {
   "cell_type": "code",
   "execution_count": 7,
   "id": "d3e96766",
   "metadata": {},
   "outputs": [
    {
     "data": {
      "text/html": [
       "<div>\n",
       "<style scoped>\n",
       "    .dataframe tbody tr th:only-of-type {\n",
       "        vertical-align: middle;\n",
       "    }\n",
       "\n",
       "    .dataframe tbody tr th {\n",
       "        vertical-align: top;\n",
       "    }\n",
       "\n",
       "    .dataframe thead th {\n",
       "        text-align: right;\n",
       "    }\n",
       "</style>\n",
       "<table border=\"1\" class=\"dataframe\">\n",
       "  <thead>\n",
       "    <tr style=\"text-align: right;\">\n",
       "      <th></th>\n",
       "      <th>mark</th>\n",
       "      <th>model</th>\n",
       "      <th>generation_name</th>\n",
       "      <th>year</th>\n",
       "      <th>mileage</th>\n",
       "      <th>vol_engine</th>\n",
       "      <th>fuel</th>\n",
       "      <th>city</th>\n",
       "      <th>province</th>\n",
       "      <th>price</th>\n",
       "    </tr>\n",
       "  </thead>\n",
       "  <tbody>\n",
       "    <tr>\n",
       "      <th>0</th>\n",
       "      <td>opel</td>\n",
       "      <td>combo</td>\n",
       "      <td>gen-d-2011</td>\n",
       "      <td>2015</td>\n",
       "      <td>139568</td>\n",
       "      <td>1248</td>\n",
       "      <td>Diesel</td>\n",
       "      <td>Janki</td>\n",
       "      <td>Mazowieckie</td>\n",
       "      <td>35900</td>\n",
       "    </tr>\n",
       "    <tr>\n",
       "      <th>1</th>\n",
       "      <td>opel</td>\n",
       "      <td>combo</td>\n",
       "      <td>gen-d-2011</td>\n",
       "      <td>2018</td>\n",
       "      <td>31991</td>\n",
       "      <td>1499</td>\n",
       "      <td>Diesel</td>\n",
       "      <td>Katowice</td>\n",
       "      <td>Śląskie</td>\n",
       "      <td>78501</td>\n",
       "    </tr>\n",
       "    <tr>\n",
       "      <th>2</th>\n",
       "      <td>opel</td>\n",
       "      <td>combo</td>\n",
       "      <td>gen-d-2011</td>\n",
       "      <td>2015</td>\n",
       "      <td>278437</td>\n",
       "      <td>1598</td>\n",
       "      <td>Diesel</td>\n",
       "      <td>Brzeg</td>\n",
       "      <td>Opolskie</td>\n",
       "      <td>27000</td>\n",
       "    </tr>\n",
       "    <tr>\n",
       "      <th>3</th>\n",
       "      <td>opel</td>\n",
       "      <td>combo</td>\n",
       "      <td>gen-d-2011</td>\n",
       "      <td>2016</td>\n",
       "      <td>47600</td>\n",
       "      <td>1248</td>\n",
       "      <td>Diesel</td>\n",
       "      <td>Korfantów</td>\n",
       "      <td>Opolskie</td>\n",
       "      <td>30800</td>\n",
       "    </tr>\n",
       "    <tr>\n",
       "      <th>4</th>\n",
       "      <td>opel</td>\n",
       "      <td>combo</td>\n",
       "      <td>gen-d-2011</td>\n",
       "      <td>2014</td>\n",
       "      <td>103000</td>\n",
       "      <td>1400</td>\n",
       "      <td>CNG</td>\n",
       "      <td>Tarnowskie Góry</td>\n",
       "      <td>Śląskie</td>\n",
       "      <td>35900</td>\n",
       "    </tr>\n",
       "  </tbody>\n",
       "</table>\n",
       "</div>"
      ],
      "text/plain": [
       "   mark  model generation_name  year  mileage  vol_engine    fuel  \\\n",
       "0  opel  combo      gen-d-2011  2015   139568        1248  Diesel   \n",
       "1  opel  combo      gen-d-2011  2018    31991        1499  Diesel   \n",
       "2  opel  combo      gen-d-2011  2015   278437        1598  Diesel   \n",
       "3  opel  combo      gen-d-2011  2016    47600        1248  Diesel   \n",
       "4  opel  combo      gen-d-2011  2014   103000        1400     CNG   \n",
       "\n",
       "              city     province  price  \n",
       "0            Janki  Mazowieckie  35900  \n",
       "1         Katowice      Śląskie  78501  \n",
       "2            Brzeg     Opolskie  27000  \n",
       "3        Korfantów     Opolskie  30800  \n",
       "4  Tarnowskie Góry      Śląskie  35900  "
      ]
     },
     "execution_count": 7,
     "metadata": {},
     "output_type": "execute_result"
    }
   ],
   "source": [
    "data01.head()"
   ]
  },
  {
   "cell_type": "code",
   "execution_count": 8,
   "id": "5ad98136",
   "metadata": {},
   "outputs": [
    {
     "name": "stdout",
     "output_type": "stream",
     "text": [
      "<class 'pandas.core.frame.DataFrame'>\n",
      "RangeIndex: 117927 entries, 0 to 117926\n",
      "Data columns (total 10 columns):\n",
      " #   Column           Non-Null Count   Dtype \n",
      "---  ------           --------------   ----- \n",
      " 0   mark             117927 non-null  object\n",
      " 1   model            117927 non-null  object\n",
      " 2   generation_name  87842 non-null   object\n",
      " 3   year             117927 non-null  int64 \n",
      " 4   mileage          117927 non-null  int64 \n",
      " 5   vol_engine       117927 non-null  int64 \n",
      " 6   fuel             117927 non-null  object\n",
      " 7   city             117927 non-null  object\n",
      " 8   province         117927 non-null  object\n",
      " 9   price            117927 non-null  int64 \n",
      "dtypes: int64(4), object(6)\n",
      "memory usage: 9.0+ MB\n"
     ]
    }
   ],
   "source": [
    "data01.info()"
   ]
  },
  {
   "cell_type": "code",
   "execution_count": 9,
   "id": "4badb226",
   "metadata": {
    "scrolled": false
   },
   "outputs": [
    {
     "name": "stdout",
     "output_type": "stream",
     "text": [
      "['opel' 'audi' 'bmw' 'volkswagen' 'ford' 'mercedes-benz' 'renault'\n",
      " 'toyota' 'skoda' 'alfa-romeo' 'chevrolet' 'citroen' 'fiat' 'honda'\n",
      " 'hyundai' 'kia' 'mazda' 'mini' 'mitsubishi' 'nissan' 'peugeot' 'seat'\n",
      " 'volvo']\n",
      "['combo' 'vectra' 'adam' 'agila' 'ampera' 'antara' 'astra' 'corsa'\n",
      " 'crossland-x' 'frontera' 'grandland-x' 'insignia' 'vivaro' 'zafira' 'a3'\n",
      " 'karl' 'meriva' 'mokka' 'omega' 'signum' 'tigra' '80' 'a1' 'a2' 'a4'\n",
      " 'a4-allroad' 'a5' 'a6' 'a6-allroad' 'a7' 'a8' 'e-tron' 'q2' 'q3'\n",
      " 'q4-sportback' 'q5' 'q7' 'q8' 'rs3' 'rs5' 'rs6' 'rs-q3' 's3' 's5' 's8'\n",
      " 'sq5' 'tt' '3gt' '5gt' 'i3' 'm2' 'm3' 'm4' 'm5' 'm8' 'seria-1' 'seria-2'\n",
      " 'seria-3' 'seria-4' 'seria-5' 'seria-6' 'seria-7' 'seria-8' 'x1' 'x2'\n",
      " 'x3' 'x4' 'x5' 'x5-m' 'x6' 'x6-m' 'x7' 'amarok' 'arteon' 'beetle' 'caddy'\n",
      " 'california' 'caravelle' 'cc' 'crafter' 'eos' 'fox' 'golf' 'golf-plus'\n",
      " 'golf-sportsvan' 'id4' 'jetta' 'lupo' 'multivan' 'new-beetle' 'passat'\n",
      " 'passat-cc' 'phaeton' 'polo' 'scirocco' 'sharan' 't-cross' 't-roc'\n",
      " 'tiguan' 'tiguan-allspace' 'touareg' 'touran' 'transporter' 'up' 'b-max'\n",
      " 'c-max' 'ecosport' 'edge' 'escape' 'explorer' 'f150' 'fiesta' 'focus'\n",
      " 'focus-c-max' 'fusion' 'galaxy' 'grand-c-max' 'ka' 'kuga' 'mondeo'\n",
      " 'mustang' 'mustang-mach-e' 'puma' 'ranger' 's-max' 'tourneo-connect'\n",
      " 'tourneo-courier' 'tourneo-custom' 'transit' 'transit-connect'\n",
      " 'transit-custom' 'amg-gt' 'citan' 'cl-klasa' 'cla-klasa' 'clk-klasa'\n",
      " 'cls-klasa' 'gl-klasa' 'gla-klasa' 'glb-klasa' 'glc-klasa' 'gle-klasa'\n",
      " 'glk-klasa' 'gls-klasa' 'a-klasa' 'b-klasa' 'c-klasa' 'e-klasa' 'g-klasa'\n",
      " 'r-klasa' 's-klasa' 'v-klasa' 'm-klasa' 'sl' 'slk-klasa' 'sprinter'\n",
      " 'viano' 'vito' 'arkana' 'captur' 'clio' 'espace' 'grand-espace'\n",
      " 'grand-scenic' 'fluence' 'kadjar' 'kangoo' 'koleos' 'laguna' 'megane'\n",
      " 'modus' 'scenic' 'talisman' 'thalia' 'trafic' 'twingo' 'zoe' 'auris'\n",
      " 'avensis' 'aygo' 'c-hr' 'camry' 'corolla' 'corolla-verso' 'land-cruiser'\n",
      " 'prius' 'proace-verso' 'rav4' 'sienna' 'yaris' 'verso' 'citigo' 'enyaq'\n",
      " 'fabia' 'kamiq' 'karoq' 'kodiaq' 'octavia' 'rapid' 'roomster' 'scala'\n",
      " 'superb' 'yeti' '147' '159' 'giulia' 'giulietta' 'mito' 'aveo' 'camaro'\n",
      " 'cruze' 'orlando' 'berlingo' 'c3-aircross' 'c3-picasso' 'c4-cactus'\n",
      " 'c4-grand-picasso' 'c4-picasso' 'c5' 'c5-aircross' 'ds3' 'ds4' 'ds5'\n",
      " 'xsara-picasso' '500' '500l' '500x' 'bravo' 'doblo' 'freemont'\n",
      " 'grande-punto' 'panda' 'punto' 'punto-evo' 'tipo' 'accord' 'cr-v' 'hr-v'\n",
      " 'jazz' 'civic' 'elantra' 'i10' 'i20' 'i30' 'i40' 'ix20' 'ix35' 'kona'\n",
      " 'santa-fe' 'tucson' 'carens' 'ceed' 'optima' 'picanto' 'pro-ceed'\n",
      " 'sorento' 'soul' 'sportage' 'stinger' 'stonic' 'venga' 'xceed' '2' '3'\n",
      " '5' '6' 'cx-3' 'cx-5' 'cx-7' 'cx-9' 'cx-30' 'mx-5' 'clubman' 'cooper'\n",
      " 'cooper-s' 'countryman' 'one' 'asx' 'colt' 'eclipse-cross' 'lancer'\n",
      " 'outlander' 'space-star' 'almera' 'juke' 'leaf' 'micra' 'murano' 'note'\n",
      " 'patrol' 'primera' 'qashqai' 'qashqai-2' 'x-trail' '206' '207' '208'\n",
      " '307' '308' '407' '508' '2008' '3008' '5008' 'expert' 'partner'\n",
      " 'alhambra' 'altea' 'altea-xl' 'arona' 'ateca' 'exeo' 'ibiza' 'leon'\n",
      " 'toledo' 'c30' 's40' 's60' 's80' 'v40' 'v50' 'v60' 'v70' 'v90' 'xc-40'\n",
      " 'xc-60' 'xc-70' 'xc-90']\n",
      "['gen-d-2011' 'gen-b-1995-2002' 'gen-c-2002-2008' nan 'gen-b-2008'\n",
      " 'gen-a-2000-2007' 'gen-g-1998-2009' 'gen-h-2004-2013' 'gen-j-2009-2015'\n",
      " 'gen-k-2015' 'gen-k-2009-2015' 'gen-l-2021' 'gen-e-2018'\n",
      " 'gen-b-1993-2000' 'gen-c-2000-2006' 'gen-d-2006-2014' 'gen-e-2014'\n",
      " 'gen-f-2019' 'gen-b-1998-2004' 'gen-a-2008-2017' 'gen-a-1999-2005'\n",
      " 'gen-b-2005-2011' 'gen-8p-2003-2012' 'gen-b-2017' 'gen-i-2002-2010'\n",
      " 'gen-ii-2010' 'gen-b-1994-1999' 'gen-b-fl-1999-2003' 'gen-ii-2004-2009'\n",
      " 'gen-c-2011' 'gen-b4-1991-1995' 'gen-8v-2012' 'gen-audi-a3-8y'\n",
      " 'gen-8l-1996-2003' 'gen-b6-2000-2004' 'gen-b7-2004-2007'\n",
      " 'gen-b8-2007-2015' 'gen-b9-2015' 'gen-b5-1995-2001' 'gen-8t-2007-2016'\n",
      " 'gen-f5-2016' 'gen-c5-1997-2004' 'gen-c6-2004-2011' 'gen-c7-2011'\n",
      " 'gen-c8-2018' 'gen-c7-2012' 'gen-c7-2011-2018' 'gen-c8-2018-a7'\n",
      " 'gen-d3-2002-2010' 'gen-d4-2010' 'gen-d5-2017' 'gen-d2-1994-2002'\n",
      " 'gen-8r-2008-2016' 'gen-fy-2017' 'gen-i-2005-2015' 'gen-8v-2012-s3'\n",
      " 'gen-d4-2010-s8' 'gen-8n-1998-2006' 'gen-8j-2006-2013'\n",
      " 'gen-e87-2004-2013' 'gen-f20-2011' 'gen-f40-2019' 'gen-e36-1990-1999'\n",
      " 'gen-e46-1998-2007' 'gen-e90-2005-2012' 'gen-f30-2012' 'gen-g20-2019'\n",
      " 'gen-e39-1996-2003' 'gen-e60-2003-2010' 'gen-f10-2009' 'gen-g30-2017'\n",
      " 'gen-e63-e64-2002-2010' 'gen-f12-13-2011' 'gen-e38-1994-2001'\n",
      " 'gen-e65-66-2001-2008' 'gen-f01-2008-2015' 'gen-g11-12-2015'\n",
      " 'gen-g15-2018' 'gen-e84-2009-2015' 'gen-f48-2015' 'gen-f25-2010'\n",
      " 'gen-g01-2017' 'gen-e83-2003-2010' 'gen-f26-2014%E2%80%932018'\n",
      " 'gen-g02-2018' 'gen-e70-2006-2013' 'gen-f15-2013' 'gen-g05-2018'\n",
      " 'gen-e53-1999-2006' 'gen-f16-2014' 'gen-g06-2019' 'gen-e71-2008-2014'\n",
      " 'gen-iii-2004' 'gen-iv-2015' 'gen-v-2021' 'gen-ii-1983-1992'\n",
      " 'gen-iii-1991-1998' 'gen-iv-1997-2006' 'gen-v-2003-2009'\n",
      " 'gen-vi-2008-2013' 'gen-vii-2012' 'gen-viii-2020' 'gen-a5-2005-2010'\n",
      " 'gen-a6-2010' 'gen-b5-1996-2000' 'gen-b5-fl-2000-2005' 'gen-b6-2005-2010'\n",
      " 'gen-b7-2010-2014' 'gen-b8-2014' 'gen-iii-1994-2001' 'gen-iv-2001-2009'\n",
      " 'gen-v-2009' 'gen-vi-2017' 'gen-i-1995-2010' 'gen-ii-2010-sharan'\n",
      " 'gen-i-2007-2016' 'gen-ii-2016-tiguan' 'gen-i-2002-2010-touareg'\n",
      " 'gen-ii-2010-touareg' 'gen-iii-2018-touareg' 'gen-ii-2010-2015'\n",
      " 'gen-iii-2015-touran' 'gen-i-2003-2010' 'gen-t4' 'gen-t5' 'gen-t6'\n",
      " 'gen-ii-2010-c-max' 'gen-i-2003-2010-c-max' 'gen-mk6-2002-2008'\n",
      " 'gen-mk7-2008' 'gen-mk8-2017' 'gen-mk2-2004-2011' 'gen-mk3-2010'\n",
      " 'gen-mk4-2018' 'gen-mk1-1998-2004' 'gen-mk2-2006-2015' 'gen-mk3-2015'\n",
      " 'gen-ii-2008-ka' 'gen-ii-2012-kuga' 'gen-ford-kuga-iii' 'gen-i-2008-2012'\n",
      " 'gen-mk3-2000-2006' 'gen-mk4-2007-2014' 'gen-mk5-2014' 'gen-i-2006-2015'\n",
      " 'gen-ii-2015-s-max' 'gen-vi-2006' 'gen-vii-2013'\n",
      " 'gen-ii-2013-transit-connect' 'gen-c215-1999-2006' 'gen-c216-2006-2013'\n",
      " 'gen-w208-1997-2002' 'gen-w209-2002' 'gen-c218-2011' 'gen-c219-2004-2010'\n",
      " 'gen-c257-2018' 'gen-x164-2006-2012' 'gen-x166-2012' 'gen-w166-2015-2019'\n",
      " 'gen-w167-2019' 'gen-w169-2004-2012' 'gen-w176-2012' 'gen-w177-2018'\n",
      " 'gen-w168-1997-2004' 'gen-w246-2011' 'gen-w245-2005-2011'\n",
      " 'gen-w203-2000-2007' 'gen-w204-2007-2014' 'gen-w205-2014' 'gen-w206-2021'\n",
      " 'gen-w202-1993-2001' 'gen-w210-1995-2002' 'gen-w211-2002-2009'\n",
      " 'gen-w212-2009' 'gen-w213-2016' 'gen-w124-1993-1997' 'gen-w463-1992'\n",
      " 'gen-w140-1992-1998' 'gen-w220-1998-2005' 'gen-w221-2005'\n",
      " 'gen-w221-2005-2013' 'gen-w222-2013' 'gen-w223-2020' 'gen-w164-2005-2011'\n",
      " 'gen-w166-2011' 'gen-w163-1998-2005' 'gen-r129-1989-2000'\n",
      " 'gen-r230-2001-2013' 'gen-iii-2006-sprinter' 'gen-w447-2014'\n",
      " 'gen-w639-2003' 'gen-ii-1998-2012' 'gen-iii-2005-2012' 'gen-iv-2012-clio'\n",
      " 'gen-v-2019' 'gen-iv-2003-2014' 'gen-v-2015'\n",
      " 'gen-iii-2009-2013-grand-scenic' 'gen-iv-2013-grand-scenic'\n",
      " 'gen-ii-2003-2009-grand-scenic' 'gen-ii-2008-' 'gen-iv-2013-kangoo'\n",
      " 'gen-ii-2001-2007' 'gen-iii-2007' 'gen-ii-2002-2008' 'gen-iii-2008-2016'\n",
      " 'gen-iv-2016' 'gen-ii-2003-2009-scenic' 'gen-iii-2009-2013' 'gen-iv-2013'\n",
      " 'gen-ii-2001-2014' 'gen-iii-2014-trafic' 'gen-ii-2007-2014-twingo'\n",
      " 'gen-iii-2014-twingo' 'gen-ii-2012' 'gen-i-2006-2012-auris'\n",
      " 'gen-ii-2003-2009' 'gen-iii-2009' 'gen-i-2005-2014' 'gen-ii-2014-aygo'\n",
      " 'gen-seria-e12-2001-2007' 'gen-seria-e15-2007' 'gen-seria-e16-2012'\n",
      " 'gen-e21-2019' 'gen-iv-2002-2009' 'gen-vi-2010' 'gen-ii-2003-2009-prius'\n",
      " 'gen-iii-2009-2015' 'gen-ii-2000-2005' 'gen-iii-2006-2012-rav4'\n",
      " 'gen-iv-2012' 'gen-v-2018-rav4' 'gen-ii-2005-2011' 'gen-iii-2011'\n",
      " 'gen-iv-2020' 'gen-ii-2007' 'gen-iii-2014' 'gen-iv-2021'\n",
      " 'gen-i-1999-2008' 'gen-i-1996-2011' 'gen-ii-2004-2013' 'gen-iii-2013'\n",
      " 'gen-iv-2019-octavia' 'gen-ii-2008' 'gen-iii-2015' 'gen-i-2001-2008'\n",
      " 'gen-ii-2008-berlingo' 'gen-i-1996-2010' 'gen-i-2006-2013-c4-picasso'\n",
      " 'gen-ii-2013-c4-picasso' 'gen-ii-2004-2008' 'gen-iii-2008'\n",
      " 'gen-ii-2007-bravo' 'gen-i-2000-2010-doblo' 'gen-ii-2009'\n",
      " 'gen-ii-2003-2012' 'gen-iii-2011-panda' 'gen-ii-fl-2003' 'gen-ii-2016'\n",
      " 'gen-vi-1998-2002' 'gen-vii-2002-2008' 'gen-viii-2008' 'gen-ii-2001-2006'\n",
      " 'gen-iii-2006-2012' 'gen-iv-2012-cr-v' 'gen-v-2018' 'gen-ii-2015-hr-v'\n",
      " 'gen-ii-2002-2008-jazz' 'gen-iii-2008-2014' 'gen-v-2020' 'gen-ix-2011'\n",
      " 'gen-vii-2001-2006' 'gen-viii-2006-2011' 'gen-x-2017'\n",
      " 'gen-iv-2016-elantra' 'gen-i-2008-2013' 'gen-ii-2013-i10'\n",
      " 'gen-i-2008-2014' 'gen-ii-2014' 'gen-ii-2012-i30' 'gen-iii-2017'\n",
      " 'gen-i-2007-2012' 'gen-iii-2012-santa-fe' 'gen-ii-2015'\n",
      " 'gen-iii-2015-2020' 'gen-i-2004-2010-tucson' 'gen-iii-2006-2012-carens'\n",
      " 'gen-iv-2013-carens' 'gen-ii-2012-ceed' 'gen-iii-2018' 'gen-i-2006-2012'\n",
      " 'gen-ii-2011' 'gen-iii-2017-picanto' 'gen-i-2004-2010-picanto'\n",
      " 'gen-ii-2009-2015' 'gen-iii-2015-sorento' 'gen-i-2002-2009-sorento'\n",
      " 'gen-ii-2014-soul' 'gen-i-2009-2014' 'gen-ii-2004-2010'\n",
      " 'gen-iii-2010-2015' 'gen-iv-2016-sportage' 'gen-ii-2007-2014'\n",
      " 'gen-iii-2015-2' 'gen-i-2003-2007' 'gen-ii-2009-2013' 'gen-iii-2013-3'\n",
      " 'gen-iv-2019-3' 'gen-i-2003-2009' 'gen-ii-2010-5' 'gen-i-2005-2010'\n",
      " 'gen-i-2002-2008' 'gen-ii-2007-2013-6' 'gen-iii-2012-6'\n",
      " 'gen-z30-2004-2012' 'gen-ix-2005-2008' 'gen-viii-2007' 'gen-ii-2006-2013'\n",
      " 'gen-iii-2012-outlander' 'gen-i-2001-2006' 'gen-ii-2012-space-star'\n",
      " 'gen-n16-2000-2006' 'gen-i-2010-2019' 'gen-ii-2019' 'gen-k12-2003-2010'\n",
      " 'gen-k13-2010' 'gen-k14-2017' 'gen-ii-2013-note' 'gen-i-2005-2013'\n",
      " 'gen-gr-ii-y61-1997' 'gen-p12-2001' 'gen-i-2007-2013' 'gen-ii-2013'\n",
      " 'gen-i-2001-2007' 'gen-iii-2014-x-trail' 'gen-i-2009-2016'\n",
      " 'gen-ii-2016-3008' 'gen-i-2009-2017' 'gen-ii-2017-5008'\n",
      " 'gen-ii-2008-partner' 'gen-i-1996-2010-alhambra' 'gen-ii-2010-alhambra'\n",
      " 'gen-iii-2002-2008' 'gen-iv-2008' 'gen-v-2017' 'gen-ii-2005-2012'\n",
      " 'gen-iii-2012' 'gen-seat-leon-iv' 'gen-i-1999-2005-leon'\n",
      " 'gen-iii-2004-2009' 'gen-iv-2012-toledo' 'gen-ii-2004' 'gen-ii-2010-s60'\n",
      " 'gen-iii-2018-s60' 'gen-ii-2006' 'gen-i-1998-2006' 'gen-ii-2012-v40'\n",
      " 'gen-i-2011-2018' 'gen-ii-2018' 'gen-ii-1999-2007' 'gen-iii-2007-v70'\n",
      " 'gen-i-2008-2017' 'gen-ii-2017' 'gen-i-2002' 'gen-ii-2014-xc-90']\n",
      "[2015 2018 2016 2014 2017 2012 1998 1999 2001 2000 2002 1996 1997 2004\n",
      " 2007 2008 2006 2005 2003 2013 2019 2021 2009 2011 2010 2020 1983 2022\n",
      " 1994 1988 1993 1992 1995 1991 1973 1986 1989 1987 1990 1985 1981 1952\n",
      " 1964 1972 1966 1965 1969 1970 1968 1967 1978 1974 1945 1971]\n",
      "[139568  31991 278437 ...  50366 108237 103980]\n",
      "[1248 1499 1598 1400 1368 1600 1799 1796 1994 1998 2498 1995 2198 1910\n",
      " 2171 3175 2792 1597 2958 3000 1398 1364  999 1229 1200 1100  996 1242\n",
      " 1000 1199  973  998    0 1991 2231 3195 2405 2200 2000 2400 2384 1389\n",
      " 1686 1700 1300 1956 1354 1399 1798 1900 1800 1362 1341 1342 1496 1589\n",
      " 1500 1449 1488 1195 1187 1235 1198 1396 1560 3165 1997 1599 2700 1958\n",
      " 1953 2172 1870 2464 1999 1898 2463 1390 1896 1968 1595 1984 3200 1395\n",
      " 3189 1197 1490 1955 1596 1346 1698 1685 2962 2497 2959 2598 2771 2309\n",
      " 1498 1422 1781 1780 1881 1895 2976 2393 2496 2967 2698 3123 3197 2968\n",
      " 1963 2500 4172 2495 2390 2398 2773 4163 2671 4200 2800 1996 2995 2960\n",
      " 2996 2957 3993 1986 2986 2999 2989 1967 2998 2997 3936 3697 4134 5998\n",
      " 6299 3956 4000 3700 3328 4199 3597 2480 2894 2900 3996 4991 3998 3994\n",
      " 2993 4395 2979  649  647    1  400 3246 3999 3245 3201 2302 4999 3795\n",
      " 4935 3535 1495 2494 2793 1990 1795 1951 2926 1817 3498 4398 3495 4389\n",
      " 4799 1993 1969 3982 3990 5379 5972 3600 4423 3901 4400 6592 4399 6600\n",
      " 2966 2925 4619 4396 1949 1285 1784 2461 1989 2460 1588 1272 1760 1570\n",
      " 1391 2324 1890 1797 1981 1716 2370 3198 1386 2327 3168 4921 6000 1987\n",
      " 1360 1468 1489 2459 1388 1753 1562 3500 2694 3496 1992 1593 2485 2488\n",
      " 1983 2261 2990 4605 4015 3497 3490 2264 4601 4011 2956 2300 3958 4016\n",
      " 6200 4600 5400 3704 4948 4788 6210 2687 5000 4949 3726 5409 4996 6233\n",
      " 1299 1297 1250 1241 1084 2522 2521 1988 1497 2286 2688 2179 2483 2987\n",
      " 4009 4606 3731 4951 5038 3300 2298 3797 4700 5800 4737 4900 4727 5763\n",
      " 3802 7600 4730 6390 5812 6384 2499 2953 3196 1976 2402 1461 1332 4966\n",
      " 5439 5786 4967 5513 5514 5461 6208 4663 5462 5980 1950 2143 1333 1330\n",
      " 2295 3199 4266 2597 2685 2148 2600 4780 3997 2034 1699 2084 1397 1478\n",
      " 1689 2035 2151 2950 2149 2799 3606 2155 4196 3222 2397 2717 4194 2599\n",
      " 2199 3449 4973 5987 5991 3724 5500 4300 6300 4978 1750 1749 1322 1298\n",
      " 1558  898  899  900 1149 1618 2188 2946 1783 2183 1862 1451  989 1458\n",
      " 1590 1153 1329 1794 1328 2362 2487 3456 2194 1587 2982 4164 2755 3346\n",
      " 4500 3499 4664 4461 4608 3311 1296 1288 1790 1568 1970 2387 1859 1742\n",
      " 2891 1897  875 1206 1150 6162 6199 6102 3604 3822 3564 5666 5700 3800\n",
      " 3605 1868 2720 2992  500  499  650  550 2360 2359 1580 1251 1108 1747\n",
      " 1850 2254 2157 2354 2204 2358 2356 1246 1339 1245  988 1668 1591 1582\n",
      " 1086 1120 1353 1482 1975 1682 1349 1980 1985 2351 1691 2648 2656 1358\n",
      " 1561 3342 1594 2184 2191 1759 2260 2489 2267 1840  850 1565 2268 1124\n",
      " 1493 2399 1584 2972 2378 1193 1769 2168 1481 1240 4800 2826 4169 4479\n",
      " 1878 1550 2230 1666 1581 2796 2401 2435 1948 3192 4414 4415 2783 2922\n",
      " 2319 1477 1959 2935]\n",
      "['Diesel' 'CNG' 'Gasoline' 'LPG' 'Hybrid' 'Electric']\n",
      "['Janki' 'Katowice' 'Brzeg' ... 'Kolonia Gościeńczyce' 'Augustówek'\n",
      " 'Bledzew']\n",
      "['Mazowieckie' 'Śląskie' 'Opolskie' 'Dolnośląskie' 'Lubelskie'\n",
      " 'Wielkopolskie' 'Warmińsko-mazurskie' 'Małopolskie' 'Podkarpackie'\n",
      " 'Kujawsko-pomorskie' 'Pomorskie' 'Podlaskie' 'Łódzkie' 'Świętokrzyskie'\n",
      " 'Zachodniopomorskie' 'Lubuskie' 'Berlin' 'Wiedeń' 'Niedersachsen'\n",
      " 'Moravian-Silesian Region' '(' 'Trenczyn' 'Nordrhein-Westfalen']\n",
      "[ 35900  78501  27000 ... 177798 351306 222790]\n"
     ]
    }
   ],
   "source": [
    "for val in data01:\n",
    "    print(data01[val].unique())"
   ]
  },
  {
   "cell_type": "code",
   "execution_count": 10,
   "id": "1ba1042b",
   "metadata": {},
   "outputs": [],
   "source": [
    "#The column generation name has a lot many null values.\n",
    "#Also from the unique values it is clear that the columns like \"mark\" and \"Model\" are the names only. So we can remove these columns."
   ]
  },
  {
   "cell_type": "code",
   "execution_count": 11,
   "id": "0a4bc105",
   "metadata": {},
   "outputs": [],
   "source": [
    "data01=data01.drop(['mark','model','generation_name','city','province'],axis=1)"
   ]
  },
  {
   "cell_type": "code",
   "execution_count": 12,
   "id": "b035101b",
   "metadata": {},
   "outputs": [
    {
     "data": {
      "text/html": [
       "<div>\n",
       "<style scoped>\n",
       "    .dataframe tbody tr th:only-of-type {\n",
       "        vertical-align: middle;\n",
       "    }\n",
       "\n",
       "    .dataframe tbody tr th {\n",
       "        vertical-align: top;\n",
       "    }\n",
       "\n",
       "    .dataframe thead th {\n",
       "        text-align: right;\n",
       "    }\n",
       "</style>\n",
       "<table border=\"1\" class=\"dataframe\">\n",
       "  <thead>\n",
       "    <tr style=\"text-align: right;\">\n",
       "      <th></th>\n",
       "      <th>year</th>\n",
       "      <th>mileage</th>\n",
       "      <th>vol_engine</th>\n",
       "      <th>fuel</th>\n",
       "      <th>price</th>\n",
       "    </tr>\n",
       "  </thead>\n",
       "  <tbody>\n",
       "    <tr>\n",
       "      <th>0</th>\n",
       "      <td>2015</td>\n",
       "      <td>139568</td>\n",
       "      <td>1248</td>\n",
       "      <td>Diesel</td>\n",
       "      <td>35900</td>\n",
       "    </tr>\n",
       "    <tr>\n",
       "      <th>1</th>\n",
       "      <td>2018</td>\n",
       "      <td>31991</td>\n",
       "      <td>1499</td>\n",
       "      <td>Diesel</td>\n",
       "      <td>78501</td>\n",
       "    </tr>\n",
       "    <tr>\n",
       "      <th>2</th>\n",
       "      <td>2015</td>\n",
       "      <td>278437</td>\n",
       "      <td>1598</td>\n",
       "      <td>Diesel</td>\n",
       "      <td>27000</td>\n",
       "    </tr>\n",
       "    <tr>\n",
       "      <th>3</th>\n",
       "      <td>2016</td>\n",
       "      <td>47600</td>\n",
       "      <td>1248</td>\n",
       "      <td>Diesel</td>\n",
       "      <td>30800</td>\n",
       "    </tr>\n",
       "    <tr>\n",
       "      <th>4</th>\n",
       "      <td>2014</td>\n",
       "      <td>103000</td>\n",
       "      <td>1400</td>\n",
       "      <td>CNG</td>\n",
       "      <td>35900</td>\n",
       "    </tr>\n",
       "  </tbody>\n",
       "</table>\n",
       "</div>"
      ],
      "text/plain": [
       "   year  mileage  vol_engine    fuel  price\n",
       "0  2015   139568        1248  Diesel  35900\n",
       "1  2018    31991        1499  Diesel  78501\n",
       "2  2015   278437        1598  Diesel  27000\n",
       "3  2016    47600        1248  Diesel  30800\n",
       "4  2014   103000        1400     CNG  35900"
      ]
     },
     "execution_count": 12,
     "metadata": {},
     "output_type": "execute_result"
    }
   ],
   "source": [
    "data01.head()"
   ]
  },
  {
   "cell_type": "code",
   "execution_count": 13,
   "id": "507362e7",
   "metadata": {},
   "outputs": [
    {
     "name": "stdout",
     "output_type": "stream",
     "text": [
      "<class 'pandas.core.frame.DataFrame'>\n",
      "RangeIndex: 117927 entries, 0 to 117926\n",
      "Data columns (total 5 columns):\n",
      " #   Column      Non-Null Count   Dtype \n",
      "---  ------      --------------   ----- \n",
      " 0   year        117927 non-null  int64 \n",
      " 1   mileage     117927 non-null  int64 \n",
      " 2   vol_engine  117927 non-null  int64 \n",
      " 3   fuel        117927 non-null  object\n",
      " 4   price       117927 non-null  int64 \n",
      "dtypes: int64(4), object(1)\n",
      "memory usage: 4.5+ MB\n"
     ]
    }
   ],
   "source": [
    "data01.info()"
   ]
  },
  {
   "cell_type": "code",
   "execution_count": 14,
   "id": "dfaf583d",
   "metadata": {},
   "outputs": [
    {
     "data": {
      "text/plain": [
       "(117927, 5)"
      ]
     },
     "execution_count": 14,
     "metadata": {},
     "output_type": "execute_result"
    }
   ],
   "source": [
    "data01.shape"
   ]
  },
  {
   "cell_type": "code",
   "execution_count": 15,
   "id": "0294c23e",
   "metadata": {},
   "outputs": [],
   "source": [
    "#There are no null values in the dataframe."
   ]
  },
  {
   "cell_type": "code",
   "execution_count": 16,
   "id": "17856f7e",
   "metadata": {},
   "outputs": [],
   "source": [
    "#Also we need the total years(say age) of respective cars. As current year is 2022. We need to minimise the respective year from 2022 in order to predict the age."
   ]
  },
  {
   "cell_type": "code",
   "execution_count": 17,
   "id": "b867828f",
   "metadata": {},
   "outputs": [],
   "source": [
    "#Import the current year\n",
    "import datetime"
   ]
  },
  {
   "cell_type": "code",
   "execution_count": 18,
   "id": "1234edf0",
   "metadata": {},
   "outputs": [],
   "source": [
    "Today=datetime.date.today()"
   ]
  },
  {
   "cell_type": "code",
   "execution_count": 19,
   "id": "e88e4281",
   "metadata": {},
   "outputs": [
    {
     "name": "stdout",
     "output_type": "stream",
     "text": [
      "2022\n"
     ]
    }
   ],
   "source": [
    "Current_year=Today.year\n",
    "print(Current_year)"
   ]
  },
  {
   "cell_type": "code",
   "execution_count": 20,
   "id": "e2f9c727",
   "metadata": {},
   "outputs": [
    {
     "data": {
      "text/plain": [
       "int"
      ]
     },
     "execution_count": 20,
     "metadata": {},
     "output_type": "execute_result"
    }
   ],
   "source": [
    "type(Current_year)"
   ]
  },
  {
   "cell_type": "code",
   "execution_count": 21,
   "id": "15db4095",
   "metadata": {},
   "outputs": [],
   "source": [
    "data01['current year']=Current_year"
   ]
  },
  {
   "cell_type": "code",
   "execution_count": 22,
   "id": "fca87cc2",
   "metadata": {},
   "outputs": [
    {
     "name": "stdout",
     "output_type": "stream",
     "text": [
      "<class 'pandas.core.frame.DataFrame'>\n",
      "RangeIndex: 117927 entries, 0 to 117926\n",
      "Data columns (total 6 columns):\n",
      " #   Column        Non-Null Count   Dtype \n",
      "---  ------        --------------   ----- \n",
      " 0   year          117927 non-null  int64 \n",
      " 1   mileage       117927 non-null  int64 \n",
      " 2   vol_engine    117927 non-null  int64 \n",
      " 3   fuel          117927 non-null  object\n",
      " 4   price         117927 non-null  int64 \n",
      " 5   current year  117927 non-null  int64 \n",
      "dtypes: int64(5), object(1)\n",
      "memory usage: 5.4+ MB\n"
     ]
    }
   ],
   "source": [
    "data01.info()"
   ]
  },
  {
   "cell_type": "code",
   "execution_count": 23,
   "id": "e4659662",
   "metadata": {},
   "outputs": [
    {
     "data": {
      "text/plain": [
       "0         2022\n",
       "1         2022\n",
       "2         2022\n",
       "3         2022\n",
       "4         2022\n",
       "          ... \n",
       "117922    2022\n",
       "117923    2022\n",
       "117924    2022\n",
       "117925    2022\n",
       "117926    2022\n",
       "Name: current year, Length: 117927, dtype: int64"
      ]
     },
     "execution_count": 23,
     "metadata": {},
     "output_type": "execute_result"
    }
   ],
   "source": [
    "data01[\"current year\"]"
   ]
  },
  {
   "cell_type": "code",
   "execution_count": 24,
   "id": "618a0428",
   "metadata": {},
   "outputs": [],
   "source": [
    "#Feature Enginnering\n",
    "data01['Age']=data01[\"current year\"]-data01['year']"
   ]
  },
  {
   "cell_type": "code",
   "execution_count": 25,
   "id": "a9887ee7",
   "metadata": {},
   "outputs": [
    {
     "data": {
      "text/plain": [
       "0         7\n",
       "1         4\n",
       "2         7\n",
       "3         6\n",
       "4         8\n",
       "         ..\n",
       "117922    2\n",
       "117923    5\n",
       "117924    6\n",
       "117925    5\n",
       "117926    6\n",
       "Name: Age, Length: 117927, dtype: int64"
      ]
     },
     "execution_count": 25,
     "metadata": {},
     "output_type": "execute_result"
    }
   ],
   "source": [
    "data01['Age']"
   ]
  },
  {
   "cell_type": "code",
   "execution_count": 26,
   "id": "85a5e061",
   "metadata": {},
   "outputs": [
    {
     "name": "stdout",
     "output_type": "stream",
     "text": [
      "<class 'pandas.core.frame.DataFrame'>\n",
      "RangeIndex: 117927 entries, 0 to 117926\n",
      "Data columns (total 7 columns):\n",
      " #   Column        Non-Null Count   Dtype \n",
      "---  ------        --------------   ----- \n",
      " 0   year          117927 non-null  int64 \n",
      " 1   mileage       117927 non-null  int64 \n",
      " 2   vol_engine    117927 non-null  int64 \n",
      " 3   fuel          117927 non-null  object\n",
      " 4   price         117927 non-null  int64 \n",
      " 5   current year  117927 non-null  int64 \n",
      " 6   Age           117927 non-null  int64 \n",
      "dtypes: int64(6), object(1)\n",
      "memory usage: 6.3+ MB\n"
     ]
    }
   ],
   "source": [
    "data01.info()"
   ]
  },
  {
   "cell_type": "code",
   "execution_count": 27,
   "id": "0e83d65f",
   "metadata": {},
   "outputs": [
    {
     "data": {
      "text/html": [
       "<div>\n",
       "<style scoped>\n",
       "    .dataframe tbody tr th:only-of-type {\n",
       "        vertical-align: middle;\n",
       "    }\n",
       "\n",
       "    .dataframe tbody tr th {\n",
       "        vertical-align: top;\n",
       "    }\n",
       "\n",
       "    .dataframe thead th {\n",
       "        text-align: right;\n",
       "    }\n",
       "</style>\n",
       "<table border=\"1\" class=\"dataframe\">\n",
       "  <thead>\n",
       "    <tr style=\"text-align: right;\">\n",
       "      <th></th>\n",
       "      <th>year</th>\n",
       "      <th>mileage</th>\n",
       "      <th>vol_engine</th>\n",
       "      <th>fuel</th>\n",
       "      <th>price</th>\n",
       "      <th>current year</th>\n",
       "      <th>Age</th>\n",
       "    </tr>\n",
       "  </thead>\n",
       "  <tbody>\n",
       "    <tr>\n",
       "      <th>0</th>\n",
       "      <td>2015</td>\n",
       "      <td>139568</td>\n",
       "      <td>1248</td>\n",
       "      <td>Diesel</td>\n",
       "      <td>35900</td>\n",
       "      <td>2022</td>\n",
       "      <td>7</td>\n",
       "    </tr>\n",
       "    <tr>\n",
       "      <th>1</th>\n",
       "      <td>2018</td>\n",
       "      <td>31991</td>\n",
       "      <td>1499</td>\n",
       "      <td>Diesel</td>\n",
       "      <td>78501</td>\n",
       "      <td>2022</td>\n",
       "      <td>4</td>\n",
       "    </tr>\n",
       "    <tr>\n",
       "      <th>2</th>\n",
       "      <td>2015</td>\n",
       "      <td>278437</td>\n",
       "      <td>1598</td>\n",
       "      <td>Diesel</td>\n",
       "      <td>27000</td>\n",
       "      <td>2022</td>\n",
       "      <td>7</td>\n",
       "    </tr>\n",
       "    <tr>\n",
       "      <th>3</th>\n",
       "      <td>2016</td>\n",
       "      <td>47600</td>\n",
       "      <td>1248</td>\n",
       "      <td>Diesel</td>\n",
       "      <td>30800</td>\n",
       "      <td>2022</td>\n",
       "      <td>6</td>\n",
       "    </tr>\n",
       "    <tr>\n",
       "      <th>4</th>\n",
       "      <td>2014</td>\n",
       "      <td>103000</td>\n",
       "      <td>1400</td>\n",
       "      <td>CNG</td>\n",
       "      <td>35900</td>\n",
       "      <td>2022</td>\n",
       "      <td>8</td>\n",
       "    </tr>\n",
       "  </tbody>\n",
       "</table>\n",
       "</div>"
      ],
      "text/plain": [
       "   year  mileage  vol_engine    fuel  price  current year  Age\n",
       "0  2015   139568        1248  Diesel  35900          2022    7\n",
       "1  2018    31991        1499  Diesel  78501          2022    4\n",
       "2  2015   278437        1598  Diesel  27000          2022    7\n",
       "3  2016    47600        1248  Diesel  30800          2022    6\n",
       "4  2014   103000        1400     CNG  35900          2022    8"
      ]
     },
     "execution_count": 27,
     "metadata": {},
     "output_type": "execute_result"
    }
   ],
   "source": [
    "data01.head()"
   ]
  },
  {
   "cell_type": "code",
   "execution_count": 28,
   "id": "8474a794",
   "metadata": {},
   "outputs": [
    {
     "data": {
      "text/plain": [
       "<AxesSubplot:xlabel='year', ylabel='price'>"
      ]
     },
     "execution_count": 28,
     "metadata": {},
     "output_type": "execute_result"
    },
    {
     "data": {
      "image/png": "[encoded data removed]",
      "text/plain": [
       "<Figure size 1800x576 with 1 Axes>"
      ]
     },
     "metadata": {
      "needs_background": "light"
     },
     "output_type": "display_data"
    }
   ],
   "source": [
    "plt.rcParams['figure.figsize']=[25,8]\n",
    "sns.barplot(x=\"year\", y=\"price\", data=data01)"
   ]
  },
  {
   "cell_type": "code",
   "execution_count": 29,
   "id": "50476213",
   "metadata": {},
   "outputs": [],
   "source": [
    "#After calculating the real age of the cars there is no need to of columns, 'year' and 'current year'."
   ]
  },
  {
   "cell_type": "code",
   "execution_count": 30,
   "id": "e5f2e643",
   "metadata": {},
   "outputs": [],
   "source": [
    "#data01=data01.drop(['year','current year'],axis=1)"
   ]
  },
  {
   "cell_type": "code",
   "execution_count": 31,
   "id": "7e440cb0",
   "metadata": {},
   "outputs": [
    {
     "name": "stdout",
     "output_type": "stream",
     "text": [
      "<class 'pandas.core.frame.DataFrame'>\n",
      "RangeIndex: 117927 entries, 0 to 117926\n",
      "Data columns (total 7 columns):\n",
      " #   Column        Non-Null Count   Dtype \n",
      "---  ------        --------------   ----- \n",
      " 0   year          117927 non-null  int64 \n",
      " 1   mileage       117927 non-null  int64 \n",
      " 2   vol_engine    117927 non-null  int64 \n",
      " 3   fuel          117927 non-null  object\n",
      " 4   price         117927 non-null  int64 \n",
      " 5   current year  117927 non-null  int64 \n",
      " 6   Age           117927 non-null  int64 \n",
      "dtypes: int64(6), object(1)\n",
      "memory usage: 6.3+ MB\n"
     ]
    }
   ],
   "source": [
    "data01.info()"
   ]
  },
  {
   "cell_type": "code",
   "execution_count": 32,
   "id": "9c5174da",
   "metadata": {},
   "outputs": [
    {
     "data": {
      "text/plain": [
       "<AxesSubplot:xlabel='year', ylabel='price'>"
      ]
     },
     "execution_count": 32,
     "metadata": {},
     "output_type": "execute_result"
    },
    {
     "data": {
      "image/png": "[encoded data removed]",
      "text/plain": [
       "<Figure size 1800x576 with 1 Axes>"
      ]
     },
     "metadata": {
      "needs_background": "light"
     },
     "output_type": "display_data"
    }
   ],
   "source": [
    "plt.rcParams['figure.figsize']=[25,8]\n",
    "sns.barplot(x=\"year\", y=\"price\", data=data01)"
   ]
  },
  {
   "cell_type": "code",
   "execution_count": 33,
   "id": "c6f88000",
   "metadata": {},
   "outputs": [
    {
     "data": {
      "text/plain": [
       "<seaborn.axisgrid.PairGrid at 0x252c63971c0>"
      ]
     },
     "execution_count": 33,
     "metadata": {},
     "output_type": "execute_result"
    },
    {
     "data": {
      "image/png": "[encoded data removed]",
      "text/plain": [
       "<Figure size 720x720 with 20 Axes>"
      ]
     },
     "metadata": {
      "needs_background": "light"
     },
     "output_type": "display_data"
    }
   ],
   "source": [
    "col=['mileage','vol_engine','fuel','price','Age']\n",
    "sns.pairplot(data01[col],kind='scatter')"
   ]
  },
  {
   "cell_type": "code",
   "execution_count": 34,
   "id": "c680d31f",
   "metadata": {},
   "outputs": [],
   "source": [
    "#No need of the column \"Year\" and \"current year\" as we have calculated the age of the cars."
   ]
  },
  {
   "cell_type": "code",
   "execution_count": 35,
   "id": "216397a5",
   "metadata": {},
   "outputs": [],
   "source": [
    "data01=data01.drop(['year','current year'],axis=1)"
   ]
  },
  {
   "cell_type": "code",
   "execution_count": 36,
   "id": "fd326321",
   "metadata": {},
   "outputs": [
    {
     "data": {
      "text/html": [
       "<div>\n",
       "<style scoped>\n",
       "    .dataframe tbody tr th:only-of-type {\n",
       "        vertical-align: middle;\n",
       "    }\n",
       "\n",
       "    .dataframe tbody tr th {\n",
       "        vertical-align: top;\n",
       "    }\n",
       "\n",
       "    .dataframe thead th {\n",
       "        text-align: right;\n",
       "    }\n",
       "</style>\n",
       "<table border=\"1\" class=\"dataframe\">\n",
       "  <thead>\n",
       "    <tr style=\"text-align: right;\">\n",
       "      <th></th>\n",
       "      <th>mileage</th>\n",
       "      <th>vol_engine</th>\n",
       "      <th>fuel</th>\n",
       "      <th>price</th>\n",
       "      <th>Age</th>\n",
       "    </tr>\n",
       "  </thead>\n",
       "  <tbody>\n",
       "    <tr>\n",
       "      <th>0</th>\n",
       "      <td>139568</td>\n",
       "      <td>1248</td>\n",
       "      <td>Diesel</td>\n",
       "      <td>35900</td>\n",
       "      <td>7</td>\n",
       "    </tr>\n",
       "    <tr>\n",
       "      <th>1</th>\n",
       "      <td>31991</td>\n",
       "      <td>1499</td>\n",
       "      <td>Diesel</td>\n",
       "      <td>78501</td>\n",
       "      <td>4</td>\n",
       "    </tr>\n",
       "    <tr>\n",
       "      <th>2</th>\n",
       "      <td>278437</td>\n",
       "      <td>1598</td>\n",
       "      <td>Diesel</td>\n",
       "      <td>27000</td>\n",
       "      <td>7</td>\n",
       "    </tr>\n",
       "    <tr>\n",
       "      <th>3</th>\n",
       "      <td>47600</td>\n",
       "      <td>1248</td>\n",
       "      <td>Diesel</td>\n",
       "      <td>30800</td>\n",
       "      <td>6</td>\n",
       "    </tr>\n",
       "    <tr>\n",
       "      <th>4</th>\n",
       "      <td>103000</td>\n",
       "      <td>1400</td>\n",
       "      <td>CNG</td>\n",
       "      <td>35900</td>\n",
       "      <td>8</td>\n",
       "    </tr>\n",
       "  </tbody>\n",
       "</table>\n",
       "</div>"
      ],
      "text/plain": [
       "   mileage  vol_engine    fuel  price  Age\n",
       "0   139568        1248  Diesel  35900    7\n",
       "1    31991        1499  Diesel  78501    4\n",
       "2   278437        1598  Diesel  27000    7\n",
       "3    47600        1248  Diesel  30800    6\n",
       "4   103000        1400     CNG  35900    8"
      ]
     },
     "execution_count": 36,
     "metadata": {},
     "output_type": "execute_result"
    }
   ],
   "source": [
    "data01.head()"
   ]
  },
  {
   "cell_type": "code",
   "execution_count": 37,
   "id": "617c928d",
   "metadata": {},
   "outputs": [],
   "source": [
    "#Lets check the value counts for given data columns as we need to convert the data types."
   ]
  },
  {
   "cell_type": "code",
   "execution_count": 38,
   "id": "18974341",
   "metadata": {},
   "outputs": [
    {
     "data": {
      "text/plain": [
       "1         3724\n",
       "5         3286\n",
       "10        1413\n",
       "180000     715\n",
       "220000     681\n",
       "          ... \n",
       "68150        1\n",
       "74291        1\n",
       "209457       1\n",
       "306941       1\n",
       "137656       1\n",
       "Name: mileage, Length: 35394, dtype: int64"
      ]
     },
     "execution_count": 38,
     "metadata": {},
     "output_type": "execute_result"
    }
   ],
   "source": [
    "data01['mileage'].value_counts()"
   ]
  },
  {
   "cell_type": "code",
   "execution_count": 39,
   "id": "961709d2",
   "metadata": {},
   "outputs": [
    {
     "data": {
      "text/plain": [
       "1598    10206\n",
       "1968     8121\n",
       "1995     6545\n",
       "1997     5340\n",
       "1998     4498\n",
       "        ...  \n",
       "4967        1\n",
       "1558        1\n",
       "7600        1\n",
       "4199        1\n",
       "4727        1\n",
       "Name: vol_engine, Length: 508, dtype: int64"
      ]
     },
     "execution_count": 39,
     "metadata": {},
     "output_type": "execute_result"
    }
   ],
   "source": [
    "data01['vol_engine'].value_counts()"
   ]
  },
  {
   "cell_type": "code",
   "execution_count": 40,
   "id": "176e70f9",
   "metadata": {},
   "outputs": [
    {
     "data": {
      "text/plain": [
       "Gasoline    61597\n",
       "Diesel      48476\n",
       "LPG          4301\n",
       "Hybrid       2621\n",
       "Electric      885\n",
       "CNG            47\n",
       "Name: fuel, dtype: int64"
      ]
     },
     "execution_count": 40,
     "metadata": {},
     "output_type": "execute_result"
    }
   ],
   "source": [
    "data01['fuel'].value_counts()"
   ]
  },
  {
   "cell_type": "code",
   "execution_count": 41,
   "id": "53ab1881",
   "metadata": {},
   "outputs": [
    {
     "data": {
      "text/plain": [
       "1     10559\n",
       "5      8909\n",
       "4      8647\n",
       "6      7021\n",
       "13     6828\n",
       "11     6596\n",
       "14     6528\n",
       "12     6400\n",
       "10     6240\n",
       "7      6021\n",
       "8      5790\n",
       "15     5735\n",
       "9      5445\n",
       "3      5200\n",
       "16     4755\n",
       "17     3534\n",
       "2      3526\n",
       "18     2641\n",
       "0      2094\n",
       "19     1766\n",
       "20     1220\n",
       "21      757\n",
       "22      510\n",
       "23      405\n",
       "24      270\n",
       "25      148\n",
       "26       99\n",
       "27       59\n",
       "28       53\n",
       "29       30\n",
       "31       26\n",
       "30       25\n",
       "32       18\n",
       "33       10\n",
       "52        8\n",
       "56        7\n",
       "34        7\n",
       "57        5\n",
       "55        4\n",
       "41        3\n",
       "54        3\n",
       "37        3\n",
       "51        3\n",
       "49        3\n",
       "53        2\n",
       "58        2\n",
       "50        2\n",
       "44        2\n",
       "35        2\n",
       "36        2\n",
       "77        1\n",
       "48        1\n",
       "70        1\n",
       "39        1\n",
       "Name: Age, dtype: int64"
      ]
     },
     "execution_count": 41,
     "metadata": {},
     "output_type": "execute_result"
    }
   ],
   "source": [
    "data01['Age'].value_counts()"
   ]
  },
  {
   "cell_type": "code",
   "execution_count": 42,
   "id": "e9b13ca4",
   "metadata": {},
   "outputs": [],
   "source": [
    "#From above information it is clear that only column fuel has categorical kind of the data. Others are the numerical one."
   ]
  },
  {
   "cell_type": "code",
   "execution_count": 43,
   "id": "03869cdd",
   "metadata": {},
   "outputs": [
    {
     "data": {
      "text/plain": [
       "<AxesSubplot:xlabel='fuel', ylabel='count'>"
      ]
     },
     "execution_count": 43,
     "metadata": {},
     "output_type": "execute_result"
    },
    {
     "data": {
      "image/png": "[encoded data removed]",
      "text/plain": [
       "<Figure size 1800x576 with 1 Axes>"
      ]
     },
     "metadata": {
      "needs_background": "light"
     },
     "output_type": "display_data"
    }
   ],
   "source": [
    "sns.countplot(x='fuel',data=data01)"
   ]
  },
  {
   "cell_type": "code",
   "execution_count": 44,
   "id": "10afb2ff",
   "metadata": {},
   "outputs": [],
   "source": [
    "#from above countplot it is seen that most vehicles are of diesel and gasoline."
   ]
  },
  {
   "cell_type": "code",
   "execution_count": 45,
   "id": "cecce34f",
   "metadata": {},
   "outputs": [
    {
     "name": "stdout",
     "output_type": "stream",
     "text": [
      "<class 'pandas.core.frame.DataFrame'>\n",
      "RangeIndex: 117927 entries, 0 to 117926\n",
      "Data columns (total 5 columns):\n",
      " #   Column      Non-Null Count   Dtype \n",
      "---  ------      --------------   ----- \n",
      " 0   mileage     117927 non-null  int64 \n",
      " 1   vol_engine  117927 non-null  int64 \n",
      " 2   fuel        117927 non-null  object\n",
      " 3   price       117927 non-null  int64 \n",
      " 4   Age         117927 non-null  int64 \n",
      "dtypes: int64(4), object(1)\n",
      "memory usage: 4.5+ MB\n"
     ]
    }
   ],
   "source": [
    "data01.info()"
   ]
  },
  {
   "cell_type": "code",
   "execution_count": 46,
   "id": "88bc2add",
   "metadata": {},
   "outputs": [
    {
     "data": {
      "text/plain": [
       "<AxesSubplot:xlabel='mileage', ylabel='Count'>"
      ]
     },
     "execution_count": 46,
     "metadata": {},
     "output_type": "execute_result"
    },
    {
     "data": {
      "image/png": "[encoded data removed]",
      "text/plain": [
       "<Figure size 1800x576 with 1 Axes>"
      ]
     },
     "metadata": {
      "needs_background": "light"
     },
     "output_type": "display_data"
    }
   ],
   "source": [
    "sns.histplot(data=data01,x='mileage')"
   ]
  },
  {
   "cell_type": "code",
   "execution_count": 47,
   "id": "ffac9b96",
   "metadata": {},
   "outputs": [
    {
     "data": {
      "text/plain": [
       "<AxesSubplot:xlabel='vol_engine', ylabel='Count'>"
      ]
     },
     "execution_count": 47,
     "metadata": {},
     "output_type": "execute_result"
    },
    {
     "data": {
      "image/png": "[encoded data removed]",
      "text/plain": [
       "<Figure size 1800x576 with 1 Axes>"
      ]
     },
     "metadata": {
      "needs_background": "light"
     },
     "output_type": "display_data"
    }
   ],
   "source": [
    "sns.histplot(data=data01,x='vol_engine')"
   ]
  },
  {
   "cell_type": "code",
   "execution_count": 48,
   "id": "68ff13fd",
   "metadata": {},
   "outputs": [
    {
     "data": {
      "text/plain": [
       "(array([1.2500e+03, 0.0000e+00, 0.0000e+00, 0.0000e+00, 0.0000e+00,\n",
       "        0.0000e+00, 0.0000e+00, 0.0000e+00, 0.0000e+00, 0.0000e+00,\n",
       "        2.0000e+00, 0.0000e+00, 0.0000e+00, 9.0000e+00, 3.0000e+00,\n",
       "        0.0000e+00, 0.0000e+00, 1.3000e+01, 0.0000e+00, 0.0000e+00,\n",
       "        0.0000e+00, 0.0000e+00, 1.0000e+00, 4.4100e+02, 0.0000e+00,\n",
       "        3.5000e+01, 5.0200e+03, 0.0000e+00, 1.1600e+02, 2.1400e+02,\n",
       "        7.0700e+02, 5.3880e+03, 2.6950e+03, 1.1000e+01, 5.7500e+02,\n",
       "        3.5680e+03, 8.1830e+03, 3.1000e+02, 1.7260e+03, 5.4010e+03,\n",
       "        1.0000e+00, 7.5920e+03, 1.2427e+04, 1.5000e+01, 1.7260e+03,\n",
       "        2.7000e+01, 1.0470e+03, 5.1350e+03, 3.9000e+01, 1.8580e+03,\n",
       "        8.2600e+02, 1.2781e+04, 2.3722e+04, 3.7000e+01, 1.0000e+00,\n",
       "        0.0000e+00, 8.6700e+02, 8.1900e+02, 3.5200e+02, 1.6000e+02,\n",
       "        6.9000e+01, 8.5000e+01, 4.0600e+02, 4.4200e+02, 2.2700e+02,\n",
       "        1.2890e+03, 1.9300e+02, 0.0000e+00, 4.1000e+01, 6.0000e+00,\n",
       "        6.4000e+01, 2.6300e+02, 6.4000e+01, 1.3200e+02, 1.0000e+01,\n",
       "        0.0000e+00, 2.0600e+02, 2.1400e+02, 5.8470e+03, 0.0000e+00,\n",
       "        0.0000e+00, 0.0000e+00, 6.0000e+01, 9.2000e+01, 2.7600e+02,\n",
       "        1.7000e+01, 4.0000e+00, 3.8000e+01, 1.0000e+00, 0.0000e+00,\n",
       "        3.0000e+01, 6.0000e+00, 2.7300e+02, 4.0000e+00, 1.0400e+02,\n",
       "        0.0000e+00, 0.0000e+00, 1.5000e+01, 8.4000e+01, 3.0000e+00,\n",
       "        4.0000e+00, 0.0000e+00, 6.0000e+00, 9.0000e+00, 1.9000e+02,\n",
       "        2.1900e+02, 0.0000e+00, 0.0000e+00, 1.5100e+02, 1.6500e+02,\n",
       "        1.3000e+01, 0.0000e+00, 1.3000e+01, 1.0000e+00, 0.0000e+00,\n",
       "        4.7200e+02, 3.1000e+01, 2.0000e+00, 4.0000e+00, 0.0000e+00,\n",
       "        0.0000e+00, 1.5000e+01, 1.1900e+02, 8.0000e+00, 3.0000e+00,\n",
       "        1.0000e+00, 5.9000e+01, 0.0000e+00, 1.0000e+00, 7.0000e+00,\n",
       "        2.0800e+02, 2.4000e+01, 8.8000e+01, 0.0000e+00, 0.0000e+00,\n",
       "        0.0000e+00, 0.0000e+00, 0.0000e+00, 0.0000e+00, 0.0000e+00,\n",
       "        0.0000e+00, 1.0000e+00, 6.0000e+00, 2.4600e+02, 2.0000e+00,\n",
       "        1.0000e+01, 0.0000e+00, 0.0000e+00, 0.0000e+00, 1.0000e+00,\n",
       "        2.0000e+00, 1.0000e+00, 7.0000e+00, 0.0000e+00, 0.0000e+00,\n",
       "        0.0000e+00, 0.0000e+00, 4.1000e+01, 0.0000e+00, 0.0000e+00,\n",
       "        1.0000e+00, 0.0000e+00, 4.1000e+01, 7.4000e+01, 2.0000e+00,\n",
       "        3.0000e+00, 0.0000e+00, 0.0000e+00, 2.0000e+00, 0.0000e+00,\n",
       "        0.0000e+00, 0.0000e+00, 0.0000e+00, 8.0000e+00, 0.0000e+00,\n",
       "        0.0000e+00, 0.0000e+00, 0.0000e+00, 0.0000e+00, 0.0000e+00,\n",
       "        0.0000e+00, 0.0000e+00, 0.0000e+00, 0.0000e+00, 0.0000e+00,\n",
       "        0.0000e+00, 0.0000e+00, 0.0000e+00, 0.0000e+00, 0.0000e+00,\n",
       "        0.0000e+00, 0.0000e+00, 0.0000e+00, 0.0000e+00, 0.0000e+00,\n",
       "        0.0000e+00, 0.0000e+00, 0.0000e+00, 0.0000e+00, 1.0000e+00]),\n",
       " array([   0.,   38.,   76.,  114.,  152.,  190.,  228.,  266.,  304.,\n",
       "         342.,  380.,  418.,  456.,  494.,  532.,  570.,  608.,  646.,\n",
       "         684.,  722.,  760.,  798.,  836.,  874.,  912.,  950.,  988.,\n",
       "        1026., 1064., 1102., 1140., 1178., 1216., 1254., 1292., 1330.,\n",
       "        1368., 1406., 1444., 1482., 1520., 1558., 1596., 1634., 1672.,\n",
       "        1710., 1748., 1786., 1824., 1862., 1900., 1938., 1976., 2014.,\n",
       "        2052., 2090., 2128., 2166., 2204., 2242., 2280., 2318., 2356.,\n",
       "        2394., 2432., 2470., 2508., 2546., 2584., 2622., 2660., 2698.,\n",
       "        2736., 2774., 2812., 2850., 2888., 2926., 2964., 3002., 3040.,\n",
       "        3078., 3116., 3154., 3192., 3230., 3268., 3306., 3344., 3382.,\n",
       "        3420., 3458., 3496., 3534., 3572., 3610., 3648., 3686., 3724.,\n",
       "        3762., 3800., 3838., 3876., 3914., 3952., 3990., 4028., 4066.,\n",
       "        4104., 4142., 4180., 4218., 4256., 4294., 4332., 4370., 4408.,\n",
       "        4446., 4484., 4522., 4560., 4598., 4636., 4674., 4712., 4750.,\n",
       "        4788., 4826., 4864., 4902., 4940., 4978., 5016., 5054., 5092.,\n",
       "        5130., 5168., 5206., 5244., 5282., 5320., 5358., 5396., 5434.,\n",
       "        5472., 5510., 5548., 5586., 5624., 5662., 5700., 5738., 5776.,\n",
       "        5814., 5852., 5890., 5928., 5966., 6004., 6042., 6080., 6118.,\n",
       "        6156., 6194., 6232., 6270., 6308., 6346., 6384., 6422., 6460.,\n",
       "        6498., 6536., 6574., 6612., 6650., 6688., 6726., 6764., 6802.,\n",
       "        6840., 6878., 6916., 6954., 6992., 7030., 7068., 7106., 7144.,\n",
       "        7182., 7220., 7258., 7296., 7334., 7372., 7410., 7448., 7486.,\n",
       "        7524., 7562., 7600.]),\n",
       " <BarContainer object of 200 artists>)"
      ]
     },
     "execution_count": 48,
     "metadata": {},
     "output_type": "execute_result"
    },
    {
     "data": {
      "image/png": "[encoded data removed]",
      "text/plain": [
       "<Figure size 1800x576 with 1 Axes>"
      ]
     },
     "metadata": {
      "needs_background": "light"
     },
     "output_type": "display_data"
    }
   ],
   "source": [
    "plt.hist(x='vol_engine',data=data01,bins=200)"
   ]
  },
  {
   "cell_type": "code",
   "execution_count": 49,
   "id": "e51ec7d8",
   "metadata": {},
   "outputs": [
    {
     "data": {
      "text/plain": [
       "(array([2.0940e+03, 0.0000e+00, 1.0559e+04, 0.0000e+00, 0.0000e+00,\n",
       "        3.5260e+03, 0.0000e+00, 5.2000e+03, 0.0000e+00, 0.0000e+00,\n",
       "        8.6470e+03, 0.0000e+00, 8.9090e+03, 0.0000e+00, 0.0000e+00,\n",
       "        7.0210e+03, 0.0000e+00, 0.0000e+00, 6.0210e+03, 0.0000e+00,\n",
       "        5.7900e+03, 0.0000e+00, 0.0000e+00, 5.4450e+03, 0.0000e+00,\n",
       "        6.2400e+03, 0.0000e+00, 0.0000e+00, 6.5960e+03, 0.0000e+00,\n",
       "        0.0000e+00, 6.4000e+03, 0.0000e+00, 6.8280e+03, 0.0000e+00,\n",
       "        0.0000e+00, 6.5280e+03, 0.0000e+00, 5.7350e+03, 0.0000e+00,\n",
       "        0.0000e+00, 4.7550e+03, 0.0000e+00, 0.0000e+00, 3.5340e+03,\n",
       "        0.0000e+00, 2.6410e+03, 0.0000e+00, 0.0000e+00, 1.7660e+03,\n",
       "        0.0000e+00, 1.2200e+03, 0.0000e+00, 0.0000e+00, 7.5700e+02,\n",
       "        0.0000e+00, 0.0000e+00, 5.1000e+02, 0.0000e+00, 4.0500e+02,\n",
       "        0.0000e+00, 0.0000e+00, 2.7000e+02, 0.0000e+00, 1.4800e+02,\n",
       "        0.0000e+00, 0.0000e+00, 9.9000e+01, 0.0000e+00, 0.0000e+00,\n",
       "        5.9000e+01, 0.0000e+00, 5.3000e+01, 0.0000e+00, 0.0000e+00,\n",
       "        3.0000e+01, 0.0000e+00, 2.5000e+01, 0.0000e+00, 0.0000e+00,\n",
       "        2.6000e+01, 0.0000e+00, 0.0000e+00, 1.8000e+01, 0.0000e+00,\n",
       "        1.0000e+01, 0.0000e+00, 0.0000e+00, 7.0000e+00, 0.0000e+00,\n",
       "        2.0000e+00, 0.0000e+00, 0.0000e+00, 2.0000e+00, 0.0000e+00,\n",
       "        0.0000e+00, 3.0000e+00, 0.0000e+00, 0.0000e+00, 0.0000e+00,\n",
       "        0.0000e+00, 1.0000e+00, 0.0000e+00, 0.0000e+00, 0.0000e+00,\n",
       "        0.0000e+00, 3.0000e+00, 0.0000e+00, 0.0000e+00, 0.0000e+00,\n",
       "        0.0000e+00, 0.0000e+00, 0.0000e+00, 0.0000e+00, 2.0000e+00,\n",
       "        0.0000e+00, 0.0000e+00, 0.0000e+00, 0.0000e+00, 0.0000e+00,\n",
       "        0.0000e+00, 0.0000e+00, 0.0000e+00, 0.0000e+00, 1.0000e+00,\n",
       "        0.0000e+00, 0.0000e+00, 3.0000e+00, 0.0000e+00, 2.0000e+00,\n",
       "        0.0000e+00, 0.0000e+00, 3.0000e+00, 0.0000e+00, 0.0000e+00,\n",
       "        8.0000e+00, 0.0000e+00, 2.0000e+00, 0.0000e+00, 0.0000e+00,\n",
       "        3.0000e+00, 0.0000e+00, 4.0000e+00, 0.0000e+00, 0.0000e+00,\n",
       "        7.0000e+00, 0.0000e+00, 0.0000e+00, 5.0000e+00, 0.0000e+00,\n",
       "        2.0000e+00, 0.0000e+00, 0.0000e+00, 0.0000e+00, 0.0000e+00,\n",
       "        0.0000e+00, 0.0000e+00, 0.0000e+00, 0.0000e+00, 0.0000e+00,\n",
       "        0.0000e+00, 0.0000e+00, 0.0000e+00, 0.0000e+00, 0.0000e+00,\n",
       "        0.0000e+00, 0.0000e+00, 0.0000e+00, 0.0000e+00, 0.0000e+00,\n",
       "        0.0000e+00, 0.0000e+00, 0.0000e+00, 0.0000e+00, 0.0000e+00,\n",
       "        0.0000e+00, 0.0000e+00, 0.0000e+00, 0.0000e+00, 0.0000e+00,\n",
       "        0.0000e+00, 1.0000e+00, 0.0000e+00, 0.0000e+00, 0.0000e+00,\n",
       "        0.0000e+00, 0.0000e+00, 0.0000e+00, 0.0000e+00, 0.0000e+00,\n",
       "        0.0000e+00, 0.0000e+00, 0.0000e+00, 0.0000e+00, 0.0000e+00,\n",
       "        0.0000e+00, 0.0000e+00, 0.0000e+00, 0.0000e+00, 1.0000e+00]),\n",
       " array([ 0.   ,  0.385,  0.77 ,  1.155,  1.54 ,  1.925,  2.31 ,  2.695,\n",
       "         3.08 ,  3.465,  3.85 ,  4.235,  4.62 ,  5.005,  5.39 ,  5.775,\n",
       "         6.16 ,  6.545,  6.93 ,  7.315,  7.7  ,  8.085,  8.47 ,  8.855,\n",
       "         9.24 ,  9.625, 10.01 , 10.395, 10.78 , 11.165, 11.55 , 11.935,\n",
       "        12.32 , 12.705, 13.09 , 13.475, 13.86 , 14.245, 14.63 , 15.015,\n",
       "        15.4  , 15.785, 16.17 , 16.555, 16.94 , 17.325, 17.71 , 18.095,\n",
       "        18.48 , 18.865, 19.25 , 19.635, 20.02 , 20.405, 20.79 , 21.175,\n",
       "        21.56 , 21.945, 22.33 , 22.715, 23.1  , 23.485, 23.87 , 24.255,\n",
       "        24.64 , 25.025, 25.41 , 25.795, 26.18 , 26.565, 26.95 , 27.335,\n",
       "        27.72 , 28.105, 28.49 , 28.875, 29.26 , 29.645, 30.03 , 30.415,\n",
       "        30.8  , 31.185, 31.57 , 31.955, 32.34 , 32.725, 33.11 , 33.495,\n",
       "        33.88 , 34.265, 34.65 , 35.035, 35.42 , 35.805, 36.19 , 36.575,\n",
       "        36.96 , 37.345, 37.73 , 38.115, 38.5  , 38.885, 39.27 , 39.655,\n",
       "        40.04 , 40.425, 40.81 , 41.195, 41.58 , 41.965, 42.35 , 42.735,\n",
       "        43.12 , 43.505, 43.89 , 44.275, 44.66 , 45.045, 45.43 , 45.815,\n",
       "        46.2  , 46.585, 46.97 , 47.355, 47.74 , 48.125, 48.51 , 48.895,\n",
       "        49.28 , 49.665, 50.05 , 50.435, 50.82 , 51.205, 51.59 , 51.975,\n",
       "        52.36 , 52.745, 53.13 , 53.515, 53.9  , 54.285, 54.67 , 55.055,\n",
       "        55.44 , 55.825, 56.21 , 56.595, 56.98 , 57.365, 57.75 , 58.135,\n",
       "        58.52 , 58.905, 59.29 , 59.675, 60.06 , 60.445, 60.83 , 61.215,\n",
       "        61.6  , 61.985, 62.37 , 62.755, 63.14 , 63.525, 63.91 , 64.295,\n",
       "        64.68 , 65.065, 65.45 , 65.835, 66.22 , 66.605, 66.99 , 67.375,\n",
       "        67.76 , 68.145, 68.53 , 68.915, 69.3  , 69.685, 70.07 , 70.455,\n",
       "        70.84 , 71.225, 71.61 , 71.995, 72.38 , 72.765, 73.15 , 73.535,\n",
       "        73.92 , 74.305, 74.69 , 75.075, 75.46 , 75.845, 76.23 , 76.615,\n",
       "        77.   ]),\n",
       " <BarContainer object of 200 artists>)"
      ]
     },
     "execution_count": 49,
     "metadata": {},
     "output_type": "execute_result"
    },
    {
     "data": {
      "image/png": "[encoded data removed]",
      "text/plain": [
       "<Figure size 1800x576 with 1 Axes>"
      ]
     },
     "metadata": {
      "needs_background": "light"
     },
     "output_type": "display_data"
    }
   ],
   "source": [
    "plt.hist(x='Age',data=data01,bins=200)"
   ]
  },
  {
   "cell_type": "code",
   "execution_count": 50,
   "id": "9fcc1ec4",
   "metadata": {},
   "outputs": [
    {
     "data": {
      "text/plain": [
       "(array([1.0959e+04, 2.3971e+04, 1.7523e+04, 1.2882e+04, 1.0100e+04,\n",
       "        7.3420e+03, 5.9890e+03, 4.9330e+03, 3.1460e+03, 2.7110e+03,\n",
       "        2.2420e+03, 1.8740e+03, 1.7380e+03, 1.3830e+03, 1.6020e+03,\n",
       "        1.0990e+03, 9.1100e+02, 7.4100e+02, 6.3400e+02, 7.0100e+02,\n",
       "        4.6600e+02, 4.5500e+02, 5.0800e+02, 4.3000e+02, 5.6100e+02,\n",
       "        2.4700e+02, 2.3400e+02, 2.5000e+02, 1.5300e+02, 2.7600e+02,\n",
       "        1.5700e+02, 1.4000e+02, 1.4000e+02, 1.3700e+02, 1.3200e+02,\n",
       "        1.2200e+02, 1.0100e+02, 9.3000e+01, 6.3000e+01, 8.7000e+01,\n",
       "        5.8000e+01, 6.2000e+01, 3.2000e+01, 3.6000e+01, 3.5000e+01,\n",
       "        4.8000e+01, 2.7000e+01, 2.8000e+01, 2.3000e+01, 3.3000e+01,\n",
       "        2.2000e+01, 1.8000e+01, 6.0000e+00, 1.3000e+01, 2.9000e+01,\n",
       "        1.3000e+01, 1.5000e+01, 1.4000e+01, 2.1000e+01, 1.3000e+01,\n",
       "        1.2000e+01, 5.0000e+00, 1.6000e+01, 4.0000e+00, 1.6000e+01,\n",
       "        1.1000e+01, 1.8000e+01, 5.0000e+00, 3.0000e+00, 3.0000e+00,\n",
       "        6.0000e+00, 1.0000e+00, 2.0000e+00, 3.0000e+00, 6.0000e+00,\n",
       "        0.0000e+00, 3.0000e+00, 0.0000e+00, 4.0000e+00, 4.0000e+00,\n",
       "        2.0000e+00, 4.0000e+00, 0.0000e+00, 5.0000e+00, 0.0000e+00,\n",
       "        0.0000e+00, 1.0000e+00, 0.0000e+00, 3.0000e+00, 1.0000e+00,\n",
       "        2.0000e+00, 4.0000e+00, 0.0000e+00, 0.0000e+00, 0.0000e+00,\n",
       "        0.0000e+00, 0.0000e+00, 0.0000e+00, 0.0000e+00, 0.0000e+00,\n",
       "        0.0000e+00, 0.0000e+00, 0.0000e+00, 0.0000e+00, 0.0000e+00,\n",
       "        0.0000e+00, 0.0000e+00, 0.0000e+00, 0.0000e+00, 0.0000e+00,\n",
       "        0.0000e+00, 0.0000e+00, 0.0000e+00, 0.0000e+00, 1.0000e+00,\n",
       "        0.0000e+00, 0.0000e+00, 0.0000e+00, 0.0000e+00, 0.0000e+00,\n",
       "        0.0000e+00, 0.0000e+00, 0.0000e+00, 0.0000e+00, 0.0000e+00,\n",
       "        0.0000e+00, 0.0000e+00, 0.0000e+00, 0.0000e+00, 1.0000e+00,\n",
       "        0.0000e+00, 0.0000e+00, 0.0000e+00, 0.0000e+00, 0.0000e+00,\n",
       "        0.0000e+00, 0.0000e+00, 0.0000e+00, 0.0000e+00, 0.0000e+00,\n",
       "        0.0000e+00, 0.0000e+00, 0.0000e+00, 0.0000e+00, 0.0000e+00,\n",
       "        0.0000e+00, 0.0000e+00, 0.0000e+00, 0.0000e+00, 0.0000e+00,\n",
       "        0.0000e+00, 0.0000e+00, 0.0000e+00, 0.0000e+00, 0.0000e+00,\n",
       "        0.0000e+00, 0.0000e+00, 0.0000e+00, 0.0000e+00, 0.0000e+00,\n",
       "        0.0000e+00, 0.0000e+00, 0.0000e+00, 1.0000e+00, 0.0000e+00,\n",
       "        0.0000e+00, 0.0000e+00, 0.0000e+00, 0.0000e+00, 0.0000e+00,\n",
       "        0.0000e+00, 0.0000e+00, 0.0000e+00, 0.0000e+00, 0.0000e+00,\n",
       "        0.0000e+00, 0.0000e+00, 0.0000e+00, 0.0000e+00, 0.0000e+00,\n",
       "        0.0000e+00, 0.0000e+00, 0.0000e+00, 0.0000e+00, 0.0000e+00,\n",
       "        0.0000e+00, 0.0000e+00, 0.0000e+00, 0.0000e+00, 0.0000e+00,\n",
       "        0.0000e+00, 0.0000e+00, 0.0000e+00, 0.0000e+00, 0.0000e+00,\n",
       "        0.0000e+00, 0.0000e+00, 0.0000e+00, 0.0000e+00, 1.0000e+00]),\n",
       " array([5.000000e+02, 1.249700e+04, 2.449400e+04, 3.649100e+04,\n",
       "        4.848800e+04, 6.048500e+04, 7.248200e+04, 8.447900e+04,\n",
       "        9.647600e+04, 1.084730e+05, 1.204700e+05, 1.324670e+05,\n",
       "        1.444640e+05, 1.564610e+05, 1.684580e+05, 1.804550e+05,\n",
       "        1.924520e+05, 2.044490e+05, 2.164460e+05, 2.284430e+05,\n",
       "        2.404400e+05, 2.524370e+05, 2.644340e+05, 2.764310e+05,\n",
       "        2.884280e+05, 3.004250e+05, 3.124220e+05, 3.244190e+05,\n",
       "        3.364160e+05, 3.484130e+05, 3.604100e+05, 3.724070e+05,\n",
       "        3.844040e+05, 3.964010e+05, 4.083980e+05, 4.203950e+05,\n",
       "        4.323920e+05, 4.443890e+05, 4.563860e+05, 4.683830e+05,\n",
       "        4.803800e+05, 4.923770e+05, 5.043740e+05, 5.163710e+05,\n",
       "        5.283680e+05, 5.403650e+05, 5.523620e+05, 5.643590e+05,\n",
       "        5.763560e+05, 5.883530e+05, 6.003500e+05, 6.123470e+05,\n",
       "        6.243440e+05, 6.363410e+05, 6.483380e+05, 6.603350e+05,\n",
       "        6.723320e+05, 6.843290e+05, 6.963260e+05, 7.083230e+05,\n",
       "        7.203200e+05, 7.323170e+05, 7.443140e+05, 7.563110e+05,\n",
       "        7.683080e+05, 7.803050e+05, 7.923020e+05, 8.042990e+05,\n",
       "        8.162960e+05, 8.282930e+05, 8.402900e+05, 8.522870e+05,\n",
       "        8.642840e+05, 8.762810e+05, 8.882780e+05, 9.002750e+05,\n",
       "        9.122720e+05, 9.242690e+05, 9.362660e+05, 9.482630e+05,\n",
       "        9.602600e+05, 9.722570e+05, 9.842540e+05, 9.962510e+05,\n",
       "        1.008248e+06, 1.020245e+06, 1.032242e+06, 1.044239e+06,\n",
       "        1.056236e+06, 1.068233e+06, 1.080230e+06, 1.092227e+06,\n",
       "        1.104224e+06, 1.116221e+06, 1.128218e+06, 1.140215e+06,\n",
       "        1.152212e+06, 1.164209e+06, 1.176206e+06, 1.188203e+06,\n",
       "        1.200200e+06, 1.212197e+06, 1.224194e+06, 1.236191e+06,\n",
       "        1.248188e+06, 1.260185e+06, 1.272182e+06, 1.284179e+06,\n",
       "        1.296176e+06, 1.308173e+06, 1.320170e+06, 1.332167e+06,\n",
       "        1.344164e+06, 1.356161e+06, 1.368158e+06, 1.380155e+06,\n",
       "        1.392152e+06, 1.404149e+06, 1.416146e+06, 1.428143e+06,\n",
       "        1.440140e+06, 1.452137e+06, 1.464134e+06, 1.476131e+06,\n",
       "        1.488128e+06, 1.500125e+06, 1.512122e+06, 1.524119e+06,\n",
       "        1.536116e+06, 1.548113e+06, 1.560110e+06, 1.572107e+06,\n",
       "        1.584104e+06, 1.596101e+06, 1.608098e+06, 1.620095e+06,\n",
       "        1.632092e+06, 1.644089e+06, 1.656086e+06, 1.668083e+06,\n",
       "        1.680080e+06, 1.692077e+06, 1.704074e+06, 1.716071e+06,\n",
       "        1.728068e+06, 1.740065e+06, 1.752062e+06, 1.764059e+06,\n",
       "        1.776056e+06, 1.788053e+06, 1.800050e+06, 1.812047e+06,\n",
       "        1.824044e+06, 1.836041e+06, 1.848038e+06, 1.860035e+06,\n",
       "        1.872032e+06, 1.884029e+06, 1.896026e+06, 1.908023e+06,\n",
       "        1.920020e+06, 1.932017e+06, 1.944014e+06, 1.956011e+06,\n",
       "        1.968008e+06, 1.980005e+06, 1.992002e+06, 2.003999e+06,\n",
       "        2.015996e+06, 2.027993e+06, 2.039990e+06, 2.051987e+06,\n",
       "        2.063984e+06, 2.075981e+06, 2.087978e+06, 2.099975e+06,\n",
       "        2.111972e+06, 2.123969e+06, 2.135966e+06, 2.147963e+06,\n",
       "        2.159960e+06, 2.171957e+06, 2.183954e+06, 2.195951e+06,\n",
       "        2.207948e+06, 2.219945e+06, 2.231942e+06, 2.243939e+06,\n",
       "        2.255936e+06, 2.267933e+06, 2.279930e+06, 2.291927e+06,\n",
       "        2.303924e+06, 2.315921e+06, 2.327918e+06, 2.339915e+06,\n",
       "        2.351912e+06, 2.363909e+06, 2.375906e+06, 2.387903e+06,\n",
       "        2.399900e+06]),\n",
       " <BarContainer object of 200 artists>)"
      ]
     },
     "execution_count": 50,
     "metadata": {},
     "output_type": "execute_result"
    },
    {
     "data": {
      "image/png": "[encoded data removed]",
      "text/plain": [
       "<Figure size 1800x576 with 1 Axes>"
      ]
     },
     "metadata": {
      "needs_background": "light"
     },
     "output_type": "display_data"
    }
   ],
   "source": [
    "plt.hist(x='price',data=data01,bins=200)"
   ]
  },
  {
   "cell_type": "code",
   "execution_count": 51,
   "id": "be120e50",
   "metadata": {},
   "outputs": [],
   "source": [
    "#Checking for the data outliers if there are any and data cleaning."
   ]
  },
  {
   "cell_type": "code",
   "execution_count": 52,
   "id": "9d54350b",
   "metadata": {},
   "outputs": [
    {
     "data": {
      "text/html": [
       "<div>\n",
       "<style scoped>\n",
       "    .dataframe tbody tr th:only-of-type {\n",
       "        vertical-align: middle;\n",
       "    }\n",
       "\n",
       "    .dataframe tbody tr th {\n",
       "        vertical-align: top;\n",
       "    }\n",
       "\n",
       "    .dataframe thead th {\n",
       "        text-align: right;\n",
       "    }\n",
       "</style>\n",
       "<table border=\"1\" class=\"dataframe\">\n",
       "  <thead>\n",
       "    <tr style=\"text-align: right;\">\n",
       "      <th></th>\n",
       "      <th>mileage</th>\n",
       "      <th>vol_engine</th>\n",
       "      <th>price</th>\n",
       "      <th>Age</th>\n",
       "    </tr>\n",
       "  </thead>\n",
       "  <tbody>\n",
       "    <tr>\n",
       "      <th>count</th>\n",
       "      <td>1.179270e+05</td>\n",
       "      <td>117927.000000</td>\n",
       "      <td>1.179270e+05</td>\n",
       "      <td>117927.000000</td>\n",
       "    </tr>\n",
       "    <tr>\n",
       "      <th>mean</th>\n",
       "      <td>1.409768e+05</td>\n",
       "      <td>1812.057782</td>\n",
       "      <td>7.029988e+04</td>\n",
       "      <td>9.074741</td>\n",
       "    </tr>\n",
       "    <tr>\n",
       "      <th>std</th>\n",
       "      <td>9.236936e+04</td>\n",
       "      <td>643.613438</td>\n",
       "      <td>8.482458e+04</td>\n",
       "      <td>5.690135</td>\n",
       "    </tr>\n",
       "    <tr>\n",
       "      <th>min</th>\n",
       "      <td>0.000000e+00</td>\n",
       "      <td>0.000000</td>\n",
       "      <td>5.000000e+02</td>\n",
       "      <td>0.000000</td>\n",
       "    </tr>\n",
       "    <tr>\n",
       "      <th>25%</th>\n",
       "      <td>6.700000e+04</td>\n",
       "      <td>1461.000000</td>\n",
       "      <td>2.100000e+04</td>\n",
       "      <td>4.000000</td>\n",
       "    </tr>\n",
       "    <tr>\n",
       "      <th>50%</th>\n",
       "      <td>1.462690e+05</td>\n",
       "      <td>1796.000000</td>\n",
       "      <td>4.190000e+04</td>\n",
       "      <td>9.000000</td>\n",
       "    </tr>\n",
       "    <tr>\n",
       "      <th>75%</th>\n",
       "      <td>2.030000e+05</td>\n",
       "      <td>1995.000000</td>\n",
       "      <td>8.360000e+04</td>\n",
       "      <td>13.000000</td>\n",
       "    </tr>\n",
       "    <tr>\n",
       "      <th>max</th>\n",
       "      <td>2.800000e+06</td>\n",
       "      <td>7600.000000</td>\n",
       "      <td>2.399900e+06</td>\n",
       "      <td>77.000000</td>\n",
       "    </tr>\n",
       "  </tbody>\n",
       "</table>\n",
       "</div>"
      ],
      "text/plain": [
       "            mileage     vol_engine         price            Age\n",
       "count  1.179270e+05  117927.000000  1.179270e+05  117927.000000\n",
       "mean   1.409768e+05    1812.057782  7.029988e+04       9.074741\n",
       "std    9.236936e+04     643.613438  8.482458e+04       5.690135\n",
       "min    0.000000e+00       0.000000  5.000000e+02       0.000000\n",
       "25%    6.700000e+04    1461.000000  2.100000e+04       4.000000\n",
       "50%    1.462690e+05    1796.000000  4.190000e+04       9.000000\n",
       "75%    2.030000e+05    1995.000000  8.360000e+04      13.000000\n",
       "max    2.800000e+06    7600.000000  2.399900e+06      77.000000"
      ]
     },
     "execution_count": 52,
     "metadata": {},
     "output_type": "execute_result"
    }
   ],
   "source": [
    "data01.describe()"
   ]
  },
  {
   "cell_type": "code",
   "execution_count": 53,
   "id": "4ea6e5a1",
   "metadata": {},
   "outputs": [
    {
     "data": {
      "text/plain": [
       "<AxesSubplot:>"
      ]
     },
     "execution_count": 53,
     "metadata": {},
     "output_type": "execute_result"
    },
    {
     "data": {
      "image/png": "[encoded data removed]",
      "text/plain": [
       "<Figure size 1800x576 with 1 Axes>"
      ]
     },
     "metadata": {
      "needs_background": "light"
     },
     "output_type": "display_data"
    }
   ],
   "source": [
    "#Distribution of the numerical data by using boxplot\n",
    "data01.boxplot()"
   ]
  },
  {
   "cell_type": "code",
   "execution_count": 54,
   "id": "4c24af0b",
   "metadata": {},
   "outputs": [],
   "source": [
    "#For better visualisation we will separatly plot the boxplot for each column."
   ]
  },
  {
   "cell_type": "code",
   "execution_count": 55,
   "id": "767e642a",
   "metadata": {},
   "outputs": [
    {
     "data": {
      "text/plain": [
       "{'whiskers': [<matplotlib.lines.Line2D at 0x252cffe38b0>,\n",
       "  <matplotlib.lines.Line2D at 0x252cffe3c10>],\n",
       " 'caps': [<matplotlib.lines.Line2D at 0x252cffe3f70>,\n",
       "  <matplotlib.lines.Line2D at 0x252d0250310>],\n",
       " 'boxes': [<matplotlib.lines.Line2D at 0x252cffe3550>],\n",
       " 'medians': [<matplotlib.lines.Line2D at 0x252d0250670>],\n",
       " 'fliers': [<matplotlib.lines.Line2D at 0x252d02509d0>],\n",
       " 'means': []}"
      ]
     },
     "execution_count": 55,
     "metadata": {},
     "output_type": "execute_result"
    },
    {
     "data": {
      "image/png": "[encoded data removed]",
      "text/plain": [
       "<Figure size 1800x576 with 1 Axes>"
      ]
     },
     "metadata": {
      "needs_background": "light"
     },
     "output_type": "display_data"
    }
   ],
   "source": [
    "plt.boxplot('mileage',data=data01,vert=False)"
   ]
  },
  {
   "cell_type": "code",
   "execution_count": 56,
   "id": "d28f240c",
   "metadata": {},
   "outputs": [
    {
     "data": {
      "text/plain": [
       "{'whiskers': [<matplotlib.lines.Line2D at 0x252cf9fdee0>,\n",
       "  <matplotlib.lines.Line2D at 0x252cf067280>],\n",
       " 'caps': [<matplotlib.lines.Line2D at 0x252cf0675e0>,\n",
       "  <matplotlib.lines.Line2D at 0x252cf067940>],\n",
       " 'boxes': [<matplotlib.lines.Line2D at 0x252cf9fdb80>],\n",
       " 'medians': [<matplotlib.lines.Line2D at 0x252cf067ca0>],\n",
       " 'fliers': [<matplotlib.lines.Line2D at 0x252cf053040>],\n",
       " 'means': []}"
      ]
     },
     "execution_count": 56,
     "metadata": {},
     "output_type": "execute_result"
    },
    {
     "data": {
      "image/png": "[encoded data removed]",
      "text/plain": [
       "<Figure size 1800x576 with 1 Axes>"
      ]
     },
     "metadata": {
      "needs_background": "light"
     },
     "output_type": "display_data"
    }
   ],
   "source": [
    "plt.boxplot('vol_engine',data=data01,vert=False)"
   ]
  },
  {
   "cell_type": "code",
   "execution_count": 57,
   "id": "73f4dd6b",
   "metadata": {},
   "outputs": [
    {
     "data": {
      "text/plain": [
       "{'whiskers': [<matplotlib.lines.Line2D at 0x252cffa6f40>,\n",
       "  <matplotlib.lines.Line2D at 0x252cff982e0>],\n",
       " 'caps': [<matplotlib.lines.Line2D at 0x252cff98640>,\n",
       "  <matplotlib.lines.Line2D at 0x252cff989a0>],\n",
       " 'boxes': [<matplotlib.lines.Line2D at 0x252cffa6be0>],\n",
       " 'medians': [<matplotlib.lines.Line2D at 0x252cff98d00>],\n",
       " 'fliers': [<matplotlib.lines.Line2D at 0x252cf0e00a0>],\n",
       " 'means': []}"
      ]
     },
     "execution_count": 57,
     "metadata": {},
     "output_type": "execute_result"
    },
    {
     "data": {
      "image/png": "[encoded data removed]",
      "text/plain": [
       "<Figure size 1800x576 with 1 Axes>"
      ]
     },
     "metadata": {
      "needs_background": "light"
     },
     "output_type": "display_data"
    }
   ],
   "source": [
    "plt.boxplot('price',data=data01,vert=False)"
   ]
  },
  {
   "cell_type": "code",
   "execution_count": 58,
   "id": "07ffc851",
   "metadata": {},
   "outputs": [
    {
     "data": {
      "text/plain": [
       "{'whiskers': [<matplotlib.lines.Line2D at 0x252d023e5b0>,\n",
       "  <matplotlib.lines.Line2D at 0x252d023e8b0>],\n",
       " 'caps': [<matplotlib.lines.Line2D at 0x252d023ec10>,\n",
       "  <matplotlib.lines.Line2D at 0x252d023ef70>],\n",
       " 'boxes': [<matplotlib.lines.Line2D at 0x252d023e250>],\n",
       " 'medians': [<matplotlib.lines.Line2D at 0x252d022c310>],\n",
       " 'fliers': [<matplotlib.lines.Line2D at 0x252d022c670>],\n",
       " 'means': []}"
      ]
     },
     "execution_count": 58,
     "metadata": {},
     "output_type": "execute_result"
    },
    {
     "data": {
      "image/png": "[encoded data removed]",
      "text/plain": [
       "<Figure size 1800x576 with 1 Axes>"
      ]
     },
     "metadata": {
      "needs_background": "light"
     },
     "output_type": "display_data"
    }
   ],
   "source": [
    "plt.boxplot('Age',data=data01,vert=False)"
   ]
  },
  {
   "cell_type": "code",
   "execution_count": 59,
   "id": "9f4be3af",
   "metadata": {},
   "outputs": [],
   "source": [
    "#From the above graphs it is clearely seen that every column has lots of outliers. If we directly go into prediction without \n",
    "#processing these outliers we might get the wrong predictions. For that purpose we will use IQR method to remove the outliers."
   ]
  },
  {
   "cell_type": "code",
   "execution_count": 60,
   "id": "0bdf8481",
   "metadata": {},
   "outputs": [],
   "source": [
    "Q1=data01.quantile(0.25)\n",
    "Q3=data01.quantile(0.75)\n",
    "IQR=Q3-Q1"
   ]
  },
  {
   "cell_type": "code",
   "execution_count": 61,
   "id": "bade1d07",
   "metadata": {},
   "outputs": [
    {
     "name": "stdout",
     "output_type": "stream",
     "text": [
      "mileage       136000.0\n",
      "vol_engine       534.0\n",
      "price          62600.0\n",
      "Age                9.0\n",
      "dtype: float64\n"
     ]
    }
   ],
   "source": [
    "print(IQR)"
   ]
  },
  {
   "cell_type": "code",
   "execution_count": 62,
   "id": "21d5a521",
   "metadata": {},
   "outputs": [
    {
     "data": {
      "text/plain": [
       "(117927, 5)"
      ]
     },
     "execution_count": 62,
     "metadata": {},
     "output_type": "execute_result"
    }
   ],
   "source": [
    "data01.shape"
   ]
  },
  {
   "cell_type": "code",
   "execution_count": 63,
   "id": "a58f0a4f",
   "metadata": {},
   "outputs": [
    {
     "name": "stderr",
     "output_type": "stream",
     "text": [
      "<ipython-input-63-2a76cb506e0c>:1: FutureWarning: Automatic reindexing on DataFrame vs Series comparisons is deprecated and will raise ValueError in a future version.  Do `left, right = left.align(right, axis=1, copy=False)` before e.g. `left == right`\n",
      "  data01=data01[~((data01<(Q1-1.5*IQR))|(data01>(Q3+1.5*IQR))).any(axis=1)]\n",
      "<ipython-input-63-2a76cb506e0c>:1: FutureWarning: Automatic reindexing on DataFrame vs Series comparisons is deprecated and will raise ValueError in a future version.  Do `left, right = left.align(right, axis=1, copy=False)` before e.g. `left == right`\n",
      "  data01=data01[~((data01<(Q1-1.5*IQR))|(data01>(Q3+1.5*IQR))).any(axis=1)]\n"
     ]
    }
   ],
   "source": [
    "data01=data01[~((data01<(Q1-1.5*IQR))|(data01>(Q3+1.5*IQR))).any(axis=1)]\n",
    "data01 = data01.reset_index(drop = True)"
   ]
  },
  {
   "cell_type": "code",
   "execution_count": 64,
   "id": "bf11e52c",
   "metadata": {},
   "outputs": [
    {
     "data": {
      "text/plain": [
       "(100404, 5)"
      ]
     },
     "execution_count": 64,
     "metadata": {},
     "output_type": "execute_result"
    }
   ],
   "source": [
    "data01.shape"
   ]
  },
  {
   "cell_type": "code",
   "execution_count": 65,
   "id": "fdc282e5",
   "metadata": {},
   "outputs": [],
   "source": [
    "#Shape is reduced it means that outliers are removed from the data."
   ]
  },
  {
   "cell_type": "code",
   "execution_count": 66,
   "id": "78415936",
   "metadata": {},
   "outputs": [
    {
     "name": "stdout",
     "output_type": "stream",
     "text": [
      "<class 'pandas.core.frame.DataFrame'>\n",
      "RangeIndex: 100404 entries, 0 to 100403\n",
      "Data columns (total 5 columns):\n",
      " #   Column      Non-Null Count   Dtype \n",
      "---  ------      --------------   ----- \n",
      " 0   mileage     100404 non-null  int64 \n",
      " 1   vol_engine  100404 non-null  int64 \n",
      " 2   fuel        100404 non-null  object\n",
      " 3   price       100404 non-null  int64 \n",
      " 4   Age         100404 non-null  int64 \n",
      "dtypes: int64(4), object(1)\n",
      "memory usage: 3.8+ MB\n"
     ]
    }
   ],
   "source": [
    "data01.info()"
   ]
  },
  {
   "cell_type": "code",
   "execution_count": 67,
   "id": "09de3c00",
   "metadata": {},
   "outputs": [],
   "source": [
    "#Also there is no non-value in the data."
   ]
  },
  {
   "cell_type": "code",
   "execution_count": 68,
   "id": "68de3b17",
   "metadata": {},
   "outputs": [],
   "source": [
    "#Lets check for the colinearity in the data"
   ]
  },
  {
   "cell_type": "code",
   "execution_count": 69,
   "id": "08202c67",
   "metadata": {},
   "outputs": [],
   "source": [
    "corr=data01.corr()"
   ]
  },
  {
   "cell_type": "code",
   "execution_count": 70,
   "id": "902e9ae6",
   "metadata": {},
   "outputs": [
    {
     "data": {
      "text/html": [
       "<div>\n",
       "<style scoped>\n",
       "    .dataframe tbody tr th:only-of-type {\n",
       "        vertical-align: middle;\n",
       "    }\n",
       "\n",
       "    .dataframe tbody tr th {\n",
       "        vertical-align: top;\n",
       "    }\n",
       "\n",
       "    .dataframe thead th {\n",
       "        text-align: right;\n",
       "    }\n",
       "</style>\n",
       "<table border=\"1\" class=\"dataframe\">\n",
       "  <thead>\n",
       "    <tr style=\"text-align: right;\">\n",
       "      <th></th>\n",
       "      <th>mileage</th>\n",
       "      <th>vol_engine</th>\n",
       "      <th>price</th>\n",
       "      <th>Age</th>\n",
       "    </tr>\n",
       "  </thead>\n",
       "  <tbody>\n",
       "    <tr>\n",
       "      <th>mileage</th>\n",
       "      <td>1.000000</td>\n",
       "      <td>0.398868</td>\n",
       "      <td>-0.631952</td>\n",
       "      <td>0.720242</td>\n",
       "    </tr>\n",
       "    <tr>\n",
       "      <th>vol_engine</th>\n",
       "      <td>0.398868</td>\n",
       "      <td>1.000000</td>\n",
       "      <td>0.086479</td>\n",
       "      <td>0.246683</td>\n",
       "    </tr>\n",
       "    <tr>\n",
       "      <th>price</th>\n",
       "      <td>-0.631952</td>\n",
       "      <td>0.086479</td>\n",
       "      <td>1.000000</td>\n",
       "      <td>-0.783546</td>\n",
       "    </tr>\n",
       "    <tr>\n",
       "      <th>Age</th>\n",
       "      <td>0.720242</td>\n",
       "      <td>0.246683</td>\n",
       "      <td>-0.783546</td>\n",
       "      <td>1.000000</td>\n",
       "    </tr>\n",
       "  </tbody>\n",
       "</table>\n",
       "</div>"
      ],
      "text/plain": [
       "             mileage  vol_engine     price       Age\n",
       "mileage     1.000000    0.398868 -0.631952  0.720242\n",
       "vol_engine  0.398868    1.000000  0.086479  0.246683\n",
       "price      -0.631952    0.086479  1.000000 -0.783546\n",
       "Age         0.720242    0.246683 -0.783546  1.000000"
      ]
     },
     "execution_count": 70,
     "metadata": {},
     "output_type": "execute_result"
    }
   ],
   "source": [
    "corr"
   ]
  },
  {
   "cell_type": "code",
   "execution_count": 71,
   "id": "86c86582",
   "metadata": {},
   "outputs": [
    {
     "data": {
      "text/plain": [
       "<AxesSubplot:>"
      ]
     },
     "execution_count": 71,
     "metadata": {},
     "output_type": "execute_result"
    },
    {
     "data": {
      "image/png": "[encoded data removed]",
      "text/plain": [
       "<Figure size 1800x576 with 2 Axes>"
      ]
     },
     "metadata": {
      "needs_background": "light"
     },
     "output_type": "display_data"
    }
   ],
   "source": [
    "sns.heatmap(corr,annot=True)"
   ]
  },
  {
   "cell_type": "code",
   "execution_count": 72,
   "id": "9ebe21dd",
   "metadata": {},
   "outputs": [],
   "source": [
    "#From the above map it is seen that, data is not highly corrleated with each other. And we have also less no. of independent  variables. So no need to delet the columns."
   ]
  },
  {
   "cell_type": "code",
   "execution_count": 73,
   "id": "acf5696b",
   "metadata": {},
   "outputs": [],
   "source": [
    "#Lets analyse the dependant varible \"Price\""
   ]
  },
  {
   "cell_type": "code",
   "execution_count": 74,
   "id": "dff33adb",
   "metadata": {},
   "outputs": [
    {
     "data": {
      "text/plain": [
       "<AxesSubplot:>"
      ]
     },
     "execution_count": 74,
     "metadata": {},
     "output_type": "execute_result"
    },
    {
     "data": {
      "image/png": "[encoded data removed]",
      "text/plain": [
       "<Figure size 1800x576 with 1 Axes>"
      ]
     },
     "metadata": {
      "needs_background": "light"
     },
     "output_type": "display_data"
    }
   ],
   "source": [
    "data01['price'].hist()"
   ]
  },
  {
   "cell_type": "code",
   "execution_count": 75,
   "id": "3dda29e6",
   "metadata": {},
   "outputs": [],
   "source": [
    "#The price distribution is not normally distributed. For better prediction we need to convert this data into normally distributed one."
   ]
  },
  {
   "cell_type": "code",
   "execution_count": 76,
   "id": "a8b81918",
   "metadata": {},
   "outputs": [],
   "source": [
    "data01['log_price']=np.log(data01.price)"
   ]
  },
  {
   "cell_type": "code",
   "execution_count": 77,
   "id": "963debcc",
   "metadata": {},
   "outputs": [
    {
     "data": {
      "text/plain": [
       "0    10.488493\n",
       "1    11.270867\n",
       "2    10.203592\n",
       "3    10.335270\n",
       "4    10.488493\n",
       "Name: log_price, dtype: float64"
      ]
     },
     "execution_count": 77,
     "metadata": {},
     "output_type": "execute_result"
    }
   ],
   "source": [
    "data01.log_price.head()"
   ]
  },
  {
   "cell_type": "code",
   "execution_count": 78,
   "id": "479102c4",
   "metadata": {},
   "outputs": [
    {
     "data": {
      "text/plain": [
       "<AxesSubplot:>"
      ]
     },
     "execution_count": 78,
     "metadata": {},
     "output_type": "execute_result"
    },
    {
     "data": {
      "image/png": "[encoded data removed]",
      "text/plain": [
       "<Figure size 1800x576 with 1 Axes>"
      ]
     },
     "metadata": {
      "needs_background": "light"
     },
     "output_type": "display_data"
    }
   ],
   "source": [
    "data01.log_price.hist()"
   ]
  },
  {
   "cell_type": "code",
   "execution_count": 79,
   "id": "99dd80cd",
   "metadata": {},
   "outputs": [],
   "source": [
    "#Not exactly but kind of improvement have been seen into the data distribution as we ocnvert it into logarithmic data."
   ]
  },
  {
   "cell_type": "code",
   "execution_count": 80,
   "id": "669f6d16",
   "metadata": {},
   "outputs": [],
   "source": [
    "#we will go for One Hot Encoding of categorical data\n",
    "data02=pd.get_dummies(data=data01,drop_first=True)"
   ]
  },
  {
   "cell_type": "code",
   "execution_count": 81,
   "id": "d5a3a990",
   "metadata": {},
   "outputs": [
    {
     "data": {
      "text/html": [
       "<div>\n",
       "<style scoped>\n",
       "    .dataframe tbody tr th:only-of-type {\n",
       "        vertical-align: middle;\n",
       "    }\n",
       "\n",
       "    .dataframe tbody tr th {\n",
       "        vertical-align: top;\n",
       "    }\n",
       "\n",
       "    .dataframe thead th {\n",
       "        text-align: right;\n",
       "    }\n",
       "</style>\n",
       "<table border=\"1\" class=\"dataframe\">\n",
       "  <thead>\n",
       "    <tr style=\"text-align: right;\">\n",
       "      <th></th>\n",
       "      <th>mileage</th>\n",
       "      <th>vol_engine</th>\n",
       "      <th>price</th>\n",
       "      <th>Age</th>\n",
       "      <th>log_price</th>\n",
       "      <th>fuel_Diesel</th>\n",
       "      <th>fuel_Electric</th>\n",
       "      <th>fuel_Gasoline</th>\n",
       "      <th>fuel_Hybrid</th>\n",
       "      <th>fuel_LPG</th>\n",
       "    </tr>\n",
       "  </thead>\n",
       "  <tbody>\n",
       "    <tr>\n",
       "      <th>0</th>\n",
       "      <td>139568</td>\n",
       "      <td>1248</td>\n",
       "      <td>35900</td>\n",
       "      <td>7</td>\n",
       "      <td>10.488493</td>\n",
       "      <td>1</td>\n",
       "      <td>0</td>\n",
       "      <td>0</td>\n",
       "      <td>0</td>\n",
       "      <td>0</td>\n",
       "    </tr>\n",
       "    <tr>\n",
       "      <th>1</th>\n",
       "      <td>31991</td>\n",
       "      <td>1499</td>\n",
       "      <td>78501</td>\n",
       "      <td>4</td>\n",
       "      <td>11.270867</td>\n",
       "      <td>1</td>\n",
       "      <td>0</td>\n",
       "      <td>0</td>\n",
       "      <td>0</td>\n",
       "      <td>0</td>\n",
       "    </tr>\n",
       "    <tr>\n",
       "      <th>2</th>\n",
       "      <td>278437</td>\n",
       "      <td>1598</td>\n",
       "      <td>27000</td>\n",
       "      <td>7</td>\n",
       "      <td>10.203592</td>\n",
       "      <td>1</td>\n",
       "      <td>0</td>\n",
       "      <td>0</td>\n",
       "      <td>0</td>\n",
       "      <td>0</td>\n",
       "    </tr>\n",
       "    <tr>\n",
       "      <th>3</th>\n",
       "      <td>47600</td>\n",
       "      <td>1248</td>\n",
       "      <td>30800</td>\n",
       "      <td>6</td>\n",
       "      <td>10.335270</td>\n",
       "      <td>1</td>\n",
       "      <td>0</td>\n",
       "      <td>0</td>\n",
       "      <td>0</td>\n",
       "      <td>0</td>\n",
       "    </tr>\n",
       "    <tr>\n",
       "      <th>4</th>\n",
       "      <td>103000</td>\n",
       "      <td>1400</td>\n",
       "      <td>35900</td>\n",
       "      <td>8</td>\n",
       "      <td>10.488493</td>\n",
       "      <td>0</td>\n",
       "      <td>0</td>\n",
       "      <td>0</td>\n",
       "      <td>0</td>\n",
       "      <td>0</td>\n",
       "    </tr>\n",
       "  </tbody>\n",
       "</table>\n",
       "</div>"
      ],
      "text/plain": [
       "   mileage  vol_engine  price  Age  log_price  fuel_Diesel  fuel_Electric  \\\n",
       "0   139568        1248  35900    7  10.488493            1              0   \n",
       "1    31991        1499  78501    4  11.270867            1              0   \n",
       "2   278437        1598  27000    7  10.203592            1              0   \n",
       "3    47600        1248  30800    6  10.335270            1              0   \n",
       "4   103000        1400  35900    8  10.488493            0              0   \n",
       "\n",
       "   fuel_Gasoline  fuel_Hybrid  fuel_LPG  \n",
       "0              0            0         0  \n",
       "1              0            0         0  \n",
       "2              0            0         0  \n",
       "3              0            0         0  \n",
       "4              0            0         0  "
      ]
     },
     "execution_count": 81,
     "metadata": {},
     "output_type": "execute_result"
    }
   ],
   "source": [
    "data02.head()"
   ]
  },
  {
   "cell_type": "code",
   "execution_count": 82,
   "id": "1ad60cea",
   "metadata": {},
   "outputs": [],
   "source": [
    "#Data Standardisation Process\n",
    "#We need to remove the dependant variables before doing the data standardisation process"
   ]
  },
  {
   "cell_type": "code",
   "execution_count": 83,
   "id": "9e00fb1a",
   "metadata": {},
   "outputs": [],
   "source": [
    "x=data02.drop(['price', 'log_price'], axis=1)"
   ]
  },
  {
   "cell_type": "code",
   "execution_count": 84,
   "id": "5f932653",
   "metadata": {},
   "outputs": [],
   "source": [
    "from sklearn.preprocessing import MinMaxScaler"
   ]
  },
  {
   "cell_type": "code",
   "execution_count": 85,
   "id": "9cb2b6e6",
   "metadata": {},
   "outputs": [],
   "source": [
    "scaler=MinMaxScaler()"
   ]
  },
  {
   "cell_type": "code",
   "execution_count": 86,
   "id": "18a13ce3",
   "metadata": {},
   "outputs": [
    {
     "data": {
      "text/plain": [
       "MinMaxScaler()"
      ]
     },
     "execution_count": 86,
     "metadata": {},
     "output_type": "execute_result"
    }
   ],
   "source": [
    "scaler.fit(x)"
   ]
  },
  {
   "cell_type": "code",
   "execution_count": 87,
   "id": "952d0b39",
   "metadata": {},
   "outputs": [],
   "source": [
    "X=scaler.fit_transform(x)"
   ]
  },
  {
   "cell_type": "code",
   "execution_count": 88,
   "id": "c9ba7ff0",
   "metadata": {},
   "outputs": [
    {
     "data": {
      "text/plain": [
       "array([[0.3429173 , 0.1941697 , 0.26923077, 1.        , 0.        ,\n",
       "        0.        , 0.        , 0.        ],\n",
       "       [0.0785997 , 0.32483082, 0.15384615, 1.        , 0.        ,\n",
       "        0.        , 0.        , 0.        ],\n",
       "       [0.68411962, 0.37636648, 0.26923077, 1.        , 0.        ,\n",
       "        0.        , 0.        , 0.        ],\n",
       "       [0.11695115, 0.1941697 , 0.23076923, 1.        , 0.        ,\n",
       "        0.        , 0.        , 0.        ],\n",
       "       [0.25306942, 0.27329516, 0.30769231, 0.        , 0.        ,\n",
       "        0.        , 0.        , 0.        ],\n",
       "       [0.29779434, 0.37636648, 0.19230769, 1.        , 0.        ,\n",
       "        0.        , 0.        , 0.        ],\n",
       "       [0.29475257, 0.1941697 , 0.19230769, 1.        , 0.        ,\n",
       "        0.        , 0.        , 0.        ],\n",
       "       [0.49547296, 0.1941697 , 0.23076923, 1.        , 0.        ,\n",
       "        0.        , 0.        , 0.        ],\n",
       "       [0.43898142, 0.37636648, 0.30769231, 1.        , 0.        ,\n",
       "        0.        , 0.        , 0.        ],\n",
       "       [0.2776395 , 0.1941697 , 0.26923077, 1.        , 0.        ,\n",
       "        0.        , 0.        , 0.        ]])"
      ]
     },
     "execution_count": 88,
     "metadata": {},
     "output_type": "execute_result"
    }
   ],
   "source": [
    "X[0:10]"
   ]
  },
  {
   "cell_type": "code",
   "execution_count": 89,
   "id": "0c9a21de",
   "metadata": {},
   "outputs": [],
   "source": [
    "y=data02.log_price"
   ]
  },
  {
   "cell_type": "code",
   "execution_count": 90,
   "id": "c78cc580",
   "metadata": {},
   "outputs": [
    {
     "data": {
      "text/plain": [
       "((100404, 8), (100404,))"
      ]
     },
     "execution_count": 90,
     "metadata": {},
     "output_type": "execute_result"
    }
   ],
   "source": [
    "X.shape,y.shape"
   ]
  },
  {
   "cell_type": "code",
   "execution_count": 91,
   "id": "11699082",
   "metadata": {},
   "outputs": [],
   "source": [
    "#Split the data into train-test \n",
    "from sklearn.model_selection import train_test_split"
   ]
  },
  {
   "cell_type": "code",
   "execution_count": 92,
   "id": "154bace3",
   "metadata": {},
   "outputs": [],
   "source": [
    "X_train, X_test, y_train, y_test = train_test_split(X, y, test_size=0.3, random_state=42)"
   ]
  },
  {
   "cell_type": "code",
   "execution_count": 93,
   "id": "af1077ea",
   "metadata": {},
   "outputs": [
    {
     "data": {
      "text/plain": [
       "(70282, 8)"
      ]
     },
     "execution_count": 93,
     "metadata": {},
     "output_type": "execute_result"
    }
   ],
   "source": [
    "X_train.shape"
   ]
  },
  {
   "cell_type": "code",
   "execution_count": 94,
   "id": "add59b43",
   "metadata": {},
   "outputs": [
    {
     "data": {
      "text/plain": [
       "(30122, 8)"
      ]
     },
     "execution_count": 94,
     "metadata": {},
     "output_type": "execute_result"
    }
   ],
   "source": [
    "X_test.shape"
   ]
  },
  {
   "cell_type": "code",
   "execution_count": 95,
   "id": "9bbeb21b",
   "metadata": {},
   "outputs": [
    {
     "data": {
      "text/plain": [
       "(70282,)"
      ]
     },
     "execution_count": 95,
     "metadata": {},
     "output_type": "execute_result"
    }
   ],
   "source": [
    "y_train.shape"
   ]
  },
  {
   "cell_type": "code",
   "execution_count": 96,
   "id": "a408e03d",
   "metadata": {},
   "outputs": [
    {
     "data": {
      "text/plain": [
       "(30122,)"
      ]
     },
     "execution_count": 96,
     "metadata": {},
     "output_type": "execute_result"
    }
   ],
   "source": [
    "y_test.shape"
   ]
  },
  {
   "cell_type": "code",
   "execution_count": 97,
   "id": "ed324ba2",
   "metadata": {},
   "outputs": [],
   "source": [
    "#Prediction using OLS method"
   ]
  },
  {
   "cell_type": "code",
   "execution_count": 98,
   "id": "dd2ef3ce",
   "metadata": {},
   "outputs": [],
   "source": [
    "from sklearn.linear_model import LinearRegression"
   ]
  },
  {
   "cell_type": "code",
   "execution_count": 99,
   "id": "74af9798",
   "metadata": {},
   "outputs": [],
   "source": [
    "ols_model=LinearRegression()"
   ]
  },
  {
   "cell_type": "code",
   "execution_count": 100,
   "id": "7edd6c68",
   "metadata": {},
   "outputs": [
    {
     "data": {
      "text/plain": [
       "LinearRegression()"
      ]
     },
     "execution_count": 100,
     "metadata": {},
     "output_type": "execute_result"
    }
   ],
   "source": [
    "ols_model.fit(X_train,y_train)"
   ]
  },
  {
   "cell_type": "code",
   "execution_count": 101,
   "id": "e15ee79a",
   "metadata": {},
   "outputs": [],
   "source": [
    "y_pred_ols=ols_model.predict(X_test)"
   ]
  },
  {
   "cell_type": "code",
   "execution_count": 102,
   "id": "89362a70",
   "metadata": {},
   "outputs": [
    {
     "data": {
      "image/png": "[encoded data removed]",
      "text/plain": [
       "<Figure size 1800x576 with 1 Axes>"
      ]
     },
     "metadata": {
      "needs_background": "light"
     },
     "output_type": "display_data"
    }
   ],
   "source": [
    "plt.scatter(y_test,y_pred_ols)\n",
    "plt.xlabel('Targets' ,size = 18)\n",
    "plt.ylabel('Predictions',size = 18)\n",
    "plt.show()"
   ]
  },
  {
   "cell_type": "code",
   "execution_count": 103,
   "id": "81e0d011",
   "metadata": {},
   "outputs": [],
   "source": [
    "R_sqrd_ols=ols_model.score(X_train,y_train)"
   ]
  },
  {
   "cell_type": "code",
   "execution_count": 104,
   "id": "78022a65",
   "metadata": {},
   "outputs": [],
   "source": [
    "# Number of observation or sample size\n",
    "n = 70282 \n",
    "\n",
    "# No of independent variables\n",
    "p = 8\n",
    "\n",
    "#Compute Adj-R-Squared\n",
    "Adj_r_squared_OLS = 1 - (1-R_sqrd_ols)*(n-1)/(n-p-1)"
   ]
  },
  {
   "cell_type": "code",
   "execution_count": 105,
   "id": "00bd225c",
   "metadata": {},
   "outputs": [
    {
     "data": {
      "text/plain": [
       "0.8611666558463511"
      ]
     },
     "execution_count": 105,
     "metadata": {},
     "output_type": "execute_result"
    }
   ],
   "source": [
    "R_sqrd_ols"
   ]
  },
  {
   "cell_type": "code",
   "execution_count": 106,
   "id": "3059caf1",
   "metadata": {},
   "outputs": [
    {
     "data": {
      "text/plain": [
       "0.8611508508180582"
      ]
     },
     "execution_count": 106,
     "metadata": {},
     "output_type": "execute_result"
    }
   ],
   "source": [
    "Adj_r_squared_OLS"
   ]
  },
  {
   "cell_type": "code",
   "execution_count": 107,
   "id": "f57288be",
   "metadata": {},
   "outputs": [],
   "source": [
    "from sklearn.metrics import mean_squared_error\n",
    "from math import sqrt\n",
    "RMSE=sqrt(mean_squared_error(y_test,y_pred_ols))"
   ]
  },
  {
   "cell_type": "code",
   "execution_count": 108,
   "id": "92769c9d",
   "metadata": {},
   "outputs": [
    {
     "data": {
      "text/plain": [
       "0.30949422771636487"
      ]
     },
     "execution_count": 108,
     "metadata": {},
     "output_type": "execute_result"
    }
   ],
   "source": [
    "RMSE"
   ]
  },
  {
   "cell_type": "code",
   "execution_count": 109,
   "id": "39648fd5",
   "metadata": {},
   "outputs": [],
   "source": [
    "cols=['model','R_squared','ADJ_R_Squared','RMSE']\n",
    "pred_result=pd.DataFrame(columns=cols)"
   ]
  },
  {
   "cell_type": "code",
   "execution_count": 110,
   "id": "185acc6b",
   "metadata": {},
   "outputs": [
    {
     "data": {
      "text/html": [
       "<div>\n",
       "<style scoped>\n",
       "    .dataframe tbody tr th:only-of-type {\n",
       "        vertical-align: middle;\n",
       "    }\n",
       "\n",
       "    .dataframe tbody tr th {\n",
       "        vertical-align: top;\n",
       "    }\n",
       "\n",
       "    .dataframe thead th {\n",
       "        text-align: right;\n",
       "    }\n",
       "</style>\n",
       "<table border=\"1\" class=\"dataframe\">\n",
       "  <thead>\n",
       "    <tr style=\"text-align: right;\">\n",
       "      <th></th>\n",
       "      <th>model</th>\n",
       "      <th>R_squared</th>\n",
       "      <th>ADJ_R_Squared</th>\n",
       "      <th>RMSE</th>\n",
       "    </tr>\n",
       "  </thead>\n",
       "  <tbody>\n",
       "  </tbody>\n",
       "</table>\n",
       "</div>"
      ],
      "text/plain": [
       "Empty DataFrame\n",
       "Columns: [model, R_squared, ADJ_R_Squared, RMSE]\n",
       "Index: []"
      ]
     },
     "execution_count": 110,
     "metadata": {},
     "output_type": "execute_result"
    }
   ],
   "source": [
    "pred_result"
   ]
  },
  {
   "cell_type": "code",
   "execution_count": 111,
   "id": "a8c44d80",
   "metadata": {},
   "outputs": [],
   "source": [
    "OLS_data=pd.Series({'model': 'OLS', 'R_squared': R_sqrd_ols, 'ADJ_R_Squared': Adj_r_squared_OLS,'RMSE': RMSE})"
   ]
  },
  {
   "cell_type": "code",
   "execution_count": 112,
   "id": "d83672e2",
   "metadata": {},
   "outputs": [
    {
     "data": {
      "text/plain": [
       "model                 OLS\n",
       "R_squared        0.861167\n",
       "ADJ_R_Squared    0.861151\n",
       "RMSE             0.309494\n",
       "dtype: object"
      ]
     },
     "execution_count": 112,
     "metadata": {},
     "output_type": "execute_result"
    }
   ],
   "source": [
    "OLS_data"
   ]
  },
  {
   "cell_type": "code",
   "execution_count": 113,
   "id": "5081eb83",
   "metadata": {},
   "outputs": [],
   "source": [
    "pred_result=pred_result.append(OLS_data,ignore_index=True)"
   ]
  },
  {
   "cell_type": "code",
   "execution_count": 114,
   "id": "d1aeb48a",
   "metadata": {},
   "outputs": [
    {
     "data": {
      "text/html": [
       "<div>\n",
       "<style scoped>\n",
       "    .dataframe tbody tr th:only-of-type {\n",
       "        vertical-align: middle;\n",
       "    }\n",
       "\n",
       "    .dataframe tbody tr th {\n",
       "        vertical-align: top;\n",
       "    }\n",
       "\n",
       "    .dataframe thead th {\n",
       "        text-align: right;\n",
       "    }\n",
       "</style>\n",
       "<table border=\"1\" class=\"dataframe\">\n",
       "  <thead>\n",
       "    <tr style=\"text-align: right;\">\n",
       "      <th></th>\n",
       "      <th>model</th>\n",
       "      <th>R_squared</th>\n",
       "      <th>ADJ_R_Squared</th>\n",
       "      <th>RMSE</th>\n",
       "    </tr>\n",
       "  </thead>\n",
       "  <tbody>\n",
       "    <tr>\n",
       "      <th>0</th>\n",
       "      <td>OLS</td>\n",
       "      <td>0.861167</td>\n",
       "      <td>0.861151</td>\n",
       "      <td>0.309494</td>\n",
       "    </tr>\n",
       "  </tbody>\n",
       "</table>\n",
       "</div>"
      ],
      "text/plain": [
       "  model  R_squared  ADJ_R_Squared      RMSE\n",
       "0   OLS   0.861167       0.861151  0.309494"
      ]
     },
     "execution_count": 114,
     "metadata": {},
     "output_type": "execute_result"
    }
   ],
   "source": [
    "pred_result"
   ]
  },
  {
   "cell_type": "code",
   "execution_count": 115,
   "id": "fe535ced",
   "metadata": {},
   "outputs": [],
   "source": [
    "from sklearn.linear_model import SGDRegressor"
   ]
  },
  {
   "cell_type": "code",
   "execution_count": 116,
   "id": "6d1e54a3",
   "metadata": {},
   "outputs": [],
   "source": [
    "SGD=SGDRegressor(loss='squared_loss',alpha=0.1,max_iter=1000)"
   ]
  },
  {
   "cell_type": "code",
   "execution_count": 117,
   "id": "c23f9b22",
   "metadata": {},
   "outputs": [
    {
     "data": {
      "text/plain": [
       "SGDRegressor(alpha=0.1)"
      ]
     },
     "execution_count": 117,
     "metadata": {},
     "output_type": "execute_result"
    }
   ],
   "source": [
    "SGD.fit(X_train,y_train)"
   ]
  },
  {
   "cell_type": "code",
   "execution_count": 118,
   "id": "932c41b1",
   "metadata": {},
   "outputs": [],
   "source": [
    "y_pred_SGD=SGD.predict(X_test)"
   ]
  },
  {
   "cell_type": "code",
   "execution_count": 119,
   "id": "74934737",
   "metadata": {},
   "outputs": [],
   "source": [
    "R_sqrd_SGD=SGD.score(X_train,y_train)\n",
    "n = 70282 \n",
    "\n",
    "# No of independent variables\n",
    "p = 8\n",
    "\n",
    "#Compute Adj-R-Squared\n",
    "Adj_r_squared_SGD = 1 - (1-R_sqrd_SGD)*(n-1)/(n-p-1)\n",
    "RMSE_SGD=sqrt(mean_squared_error(y_test,y_pred_SGD))"
   ]
  },
  {
   "cell_type": "code",
   "execution_count": 120,
   "id": "a83969dd",
   "metadata": {},
   "outputs": [],
   "source": [
    "SGD_data=pd.Series({'model': 'SGD', 'R_squared': R_sqrd_SGD, 'ADJ_R_Squared': Adj_r_squared_SGD,'RMSE': RMSE_SGD})"
   ]
  },
  {
   "cell_type": "code",
   "execution_count": 121,
   "id": "5185f330",
   "metadata": {},
   "outputs": [],
   "source": [
    "pred_result=pred_result.append(SGD_data,ignore_index=True)"
   ]
  },
  {
   "cell_type": "code",
   "execution_count": 122,
   "id": "0daef916",
   "metadata": {},
   "outputs": [
    {
     "data": {
      "text/html": [
       "<div>\n",
       "<style scoped>\n",
       "    .dataframe tbody tr th:only-of-type {\n",
       "        vertical-align: middle;\n",
       "    }\n",
       "\n",
       "    .dataframe tbody tr th {\n",
       "        vertical-align: top;\n",
       "    }\n",
       "\n",
       "    .dataframe thead th {\n",
       "        text-align: right;\n",
       "    }\n",
       "</style>\n",
       "<table border=\"1\" class=\"dataframe\">\n",
       "  <thead>\n",
       "    <tr style=\"text-align: right;\">\n",
       "      <th></th>\n",
       "      <th>model</th>\n",
       "      <th>R_squared</th>\n",
       "      <th>ADJ_R_Squared</th>\n",
       "      <th>RMSE</th>\n",
       "    </tr>\n",
       "  </thead>\n",
       "  <tbody>\n",
       "    <tr>\n",
       "      <th>0</th>\n",
       "      <td>OLS</td>\n",
       "      <td>0.861167</td>\n",
       "      <td>0.861151</td>\n",
       "      <td>0.309494</td>\n",
       "    </tr>\n",
       "    <tr>\n",
       "      <th>1</th>\n",
       "      <td>SGD</td>\n",
       "      <td>0.486534</td>\n",
       "      <td>0.486475</td>\n",
       "      <td>0.591845</td>\n",
       "    </tr>\n",
       "  </tbody>\n",
       "</table>\n",
       "</div>"
      ],
      "text/plain": [
       "  model  R_squared  ADJ_R_Squared      RMSE\n",
       "0   OLS   0.861167       0.861151  0.309494\n",
       "1   SGD   0.486534       0.486475  0.591845"
      ]
     },
     "execution_count": 122,
     "metadata": {},
     "output_type": "execute_result"
    }
   ],
   "source": [
    "pred_result"
   ]
  },
  {
   "cell_type": "code",
   "execution_count": null,
   "id": "7d361e28",
   "metadata": {},
   "outputs": [],
   "source": []
  }
 ],
 "metadata": {
  "kernelspec": {
   "display_name": "Python 3",
   "language": "python",
   "name": "python3"
  },
  "language_info": {
   "codemirror_mode": {
    "name": "ipython",
    "version": 3
   },
   "file_extension": ".py",
   "mimetype": "text/x-python",
   "name": "python",
   "nbconvert_exporter": "python",
   "pygments_lexer": "ipython3",
   "version": "3.8.8"
  }
 },
 "nbformat": 4,
 "nbformat_minor": 5
}
